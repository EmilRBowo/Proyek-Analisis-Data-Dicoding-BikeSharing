{
 "cells": [
  {
   "cell_type": "markdown",
   "metadata": {
    "id": "H9wADwK78DCz"
   },
   "source": [
    "# Proyek Analisis Data: Bike Sharing Dataset\n",
    "- **Nama:** Emil Reginald Bowo\n",
   ]
  },
  {
   "cell_type": "markdown",
   "metadata": {
    "id": "eE0raob58DC0"
   },
   "source": [
    "## Menentukan Pertanyaan Bisnis"
   ]
  },
  {
   "cell_type": "markdown",
   "metadata": {
    "id": "GmQeQ5YF8DC0"
   },
   "source": [
    "- Pada hari apa penyewaan sepeda paling banyak dan paling sedikit?\n",
    "- Pada cuaca apa penyewaan sepeda paling banyak?\n",
    "- Bagaimana perkembangan jumlah penyewaan sepeda oleh registered user dan casual user tiap bulan dari tahun 2011 sampai 2012? "
   ]
  },
  {
   "cell_type": "markdown",
   "metadata": {
    "id": "eE0raob58DC0"
   },
   "source": [
    "## Menentukan Pertanyaan Tambahan untuk analisis lanjutan"
   ]
  },
  {
   "cell_type": "markdown",
   "metadata": {
    "id": "GmQeQ5YF8DC0"
   },
   "source": [
    "Dengan menggunakan clustering analisis\n",
    "- Pada keadaan suhu apa penyewaan sepeda paling banyak?\n",
    "- Pada waktu apa penyewaan sepeda paling banyak?"
   ]
  },
  {
   "cell_type": "markdown",
   "metadata": {
    "id": "H-z4QGlO8DC1"
   },
   "source": [
    "## Import Semua Packages/Library yang Digunakan"
   ]
  },
  {
   "cell_type": "code",
   "execution_count": 1,
   "metadata": {
    "id": "FVYwaObI8DC1"
   },
   "outputs": [],
   "source": [
    "import pandas as pd\n",
    "import matplotlib.pyplot as plt\n",
    "import seaborn as sns\n",
    "import numpy as np"
   ]
  },
  {
   "cell_type": "markdown",
   "metadata": {
    "id": "h_Sh51Xy8DC1"
   },
   "source": [
    "## Data Wrangling"
   ]
  },
  {
   "cell_type": "markdown",
   "metadata": {
    "id": "sXU2GBYu8DC1"
   },
   "source": [
    "### Gathering Data"
   ]
  },
  {
   "cell_type": "markdown",
   "metadata": {
    "id": "sXU2GBYu8DC1"
   },
   "source": [
    "Pertama, kita mengumpulkan semua data yang kita perlukan"
   ]
  },
  {
   "cell_type": "code",
   "execution_count": 2,
   "metadata": {
    "id": "zjCBk1BI8DC1"
   },
   "outputs": [
    {
     "data": {
      "text/html": [
       "<div>\n",
       "<style scoped>\n",
       "    .dataframe tbody tr th:only-of-type {\n",
       "        vertical-align: middle;\n",
       "    }\n",
       "\n",
       "    .dataframe tbody tr th {\n",
       "        vertical-align: top;\n",
       "    }\n",
       "\n",
       "    .dataframe thead th {\n",
       "        text-align: right;\n",
       "    }\n",
       "</style>\n",
       "<table border=\"1\" class=\"dataframe\">\n",
       "  <thead>\n",
       "    <tr style=\"text-align: right;\">\n",
       "      <th></th>\n",
       "      <th>instant</th>\n",
       "      <th>dteday</th>\n",
       "      <th>season</th>\n",
       "      <th>yr</th>\n",
       "      <th>mnth</th>\n",
       "      <th>hr</th>\n",
       "      <th>holiday</th>\n",
       "      <th>weekday</th>\n",
       "      <th>workingday</th>\n",
       "      <th>weathersit</th>\n",
       "      <th>temp</th>\n",
       "      <th>atemp</th>\n",
       "      <th>hum</th>\n",
       "      <th>windspeed</th>\n",
       "      <th>casual</th>\n",
       "      <th>registered</th>\n",
       "      <th>cnt</th>\n",
       "    </tr>\n",
       "  </thead>\n",
       "  <tbody>\n",
       "    <tr>\n",
       "      <th>0</th>\n",
       "      <td>1</td>\n",
       "      <td>2011-01-01</td>\n",
       "      <td>1</td>\n",
       "      <td>0</td>\n",
       "      <td>1</td>\n",
       "      <td>0</td>\n",
       "      <td>0</td>\n",
       "      <td>6</td>\n",
       "      <td>0</td>\n",
       "      <td>1</td>\n",
       "      <td>0.24</td>\n",
       "      <td>0.2879</td>\n",
       "      <td>0.81</td>\n",
       "      <td>0.0</td>\n",
       "      <td>3</td>\n",
       "      <td>13</td>\n",
       "      <td>16</td>\n",
       "    </tr>\n",
       "    <tr>\n",
       "      <th>1</th>\n",
       "      <td>2</td>\n",
       "      <td>2011-01-01</td>\n",
       "      <td>1</td>\n",
       "      <td>0</td>\n",
       "      <td>1</td>\n",
       "      <td>1</td>\n",
       "      <td>0</td>\n",
       "      <td>6</td>\n",
       "      <td>0</td>\n",
       "      <td>1</td>\n",
       "      <td>0.22</td>\n",
       "      <td>0.2727</td>\n",
       "      <td>0.80</td>\n",
       "      <td>0.0</td>\n",
       "      <td>8</td>\n",
       "      <td>32</td>\n",
       "      <td>40</td>\n",
       "    </tr>\n",
       "    <tr>\n",
       "      <th>2</th>\n",
       "      <td>3</td>\n",
       "      <td>2011-01-01</td>\n",
       "      <td>1</td>\n",
       "      <td>0</td>\n",
       "      <td>1</td>\n",
       "      <td>2</td>\n",
       "      <td>0</td>\n",
       "      <td>6</td>\n",
       "      <td>0</td>\n",
       "      <td>1</td>\n",
       "      <td>0.22</td>\n",
       "      <td>0.2727</td>\n",
       "      <td>0.80</td>\n",
       "      <td>0.0</td>\n",
       "      <td>5</td>\n",
       "      <td>27</td>\n",
       "      <td>32</td>\n",
       "    </tr>\n",
       "    <tr>\n",
       "      <th>3</th>\n",
       "      <td>4</td>\n",
       "      <td>2011-01-01</td>\n",
       "      <td>1</td>\n",
       "      <td>0</td>\n",
       "      <td>1</td>\n",
       "      <td>3</td>\n",
       "      <td>0</td>\n",
       "      <td>6</td>\n",
       "      <td>0</td>\n",
       "      <td>1</td>\n",
       "      <td>0.24</td>\n",
       "      <td>0.2879</td>\n",
       "      <td>0.75</td>\n",
       "      <td>0.0</td>\n",
       "      <td>3</td>\n",
       "      <td>10</td>\n",
       "      <td>13</td>\n",
       "    </tr>\n",
       "    <tr>\n",
       "      <th>4</th>\n",
       "      <td>5</td>\n",
       "      <td>2011-01-01</td>\n",
       "      <td>1</td>\n",
       "      <td>0</td>\n",
       "      <td>1</td>\n",
       "      <td>4</td>\n",
       "      <td>0</td>\n",
       "      <td>6</td>\n",
       "      <td>0</td>\n",
       "      <td>1</td>\n",
       "      <td>0.24</td>\n",
       "      <td>0.2879</td>\n",
       "      <td>0.75</td>\n",
       "      <td>0.0</td>\n",
       "      <td>0</td>\n",
       "      <td>1</td>\n",
       "      <td>1</td>\n",
       "    </tr>\n",
       "  </tbody>\n",
       "</table>\n",
       "</div>"
      ],
      "text/plain": [
       "   instant      dteday  season  yr  mnth  hr  holiday  weekday  workingday  \\\n",
       "0        1  2011-01-01       1   0     1   0        0        6           0   \n",
       "1        2  2011-01-01       1   0     1   1        0        6           0   \n",
       "2        3  2011-01-01       1   0     1   2        0        6           0   \n",
       "3        4  2011-01-01       1   0     1   3        0        6           0   \n",
       "4        5  2011-01-01       1   0     1   4        0        6           0   \n",
       "\n",
       "   weathersit  temp   atemp   hum  windspeed  casual  registered  cnt  \n",
       "0           1  0.24  0.2879  0.81        0.0       3          13   16  \n",
       "1           1  0.22  0.2727  0.80        0.0       8          32   40  \n",
       "2           1  0.22  0.2727  0.80        0.0       5          27   32  \n",
       "3           1  0.24  0.2879  0.75        0.0       3          10   13  \n",
       "4           1  0.24  0.2879  0.75        0.0       0           1    1  "
      ]
     },
     "execution_count": 2,
     "metadata": {},
     "output_type": "execute_result"
    }
   ],
   "source": [
    "data_hour = pd.read_csv(\"data/hour.csv\")\n",
    "data_hour.head()"
   ]
  },
  {
   "cell_type": "code",
   "execution_count": 3,
   "metadata": {},
   "outputs": [
    {
     "data": {
      "text/html": [
       "<div>\n",
       "<style scoped>\n",
       "    .dataframe tbody tr th:only-of-type {\n",
       "        vertical-align: middle;\n",
       "    }\n",
       "\n",
       "    .dataframe tbody tr th {\n",
       "        vertical-align: top;\n",
       "    }\n",
       "\n",
       "    .dataframe thead th {\n",
       "        text-align: right;\n",
       "    }\n",
       "</style>\n",
       "<table border=\"1\" class=\"dataframe\">\n",
       "  <thead>\n",
       "    <tr style=\"text-align: right;\">\n",
       "      <th></th>\n",
       "      <th>instant</th>\n",
       "      <th>dteday</th>\n",
       "      <th>season</th>\n",
       "      <th>yr</th>\n",
       "      <th>mnth</th>\n",
       "      <th>holiday</th>\n",
       "      <th>weekday</th>\n",
       "      <th>workingday</th>\n",
       "      <th>weathersit</th>\n",
       "      <th>temp</th>\n",
       "      <th>atemp</th>\n",
       "      <th>hum</th>\n",
       "      <th>windspeed</th>\n",
       "      <th>casual</th>\n",
       "      <th>registered</th>\n",
       "      <th>cnt</th>\n",
       "    </tr>\n",
       "  </thead>\n",
       "  <tbody>\n",
       "    <tr>\n",
       "      <th>0</th>\n",
       "      <td>1</td>\n",
       "      <td>2011-01-01</td>\n",
       "      <td>1</td>\n",
       "      <td>0</td>\n",
       "      <td>1</td>\n",
       "      <td>0</td>\n",
       "      <td>6</td>\n",
       "      <td>0</td>\n",
       "      <td>2</td>\n",
       "      <td>0.344167</td>\n",
       "      <td>0.363625</td>\n",
       "      <td>0.805833</td>\n",
       "      <td>0.160446</td>\n",
       "      <td>331</td>\n",
       "      <td>654</td>\n",
       "      <td>985</td>\n",
       "    </tr>\n",
       "    <tr>\n",
       "      <th>1</th>\n",
       "      <td>2</td>\n",
       "      <td>2011-01-02</td>\n",
       "      <td>1</td>\n",
       "      <td>0</td>\n",
       "      <td>1</td>\n",
       "      <td>0</td>\n",
       "      <td>0</td>\n",
       "      <td>0</td>\n",
       "      <td>2</td>\n",
       "      <td>0.363478</td>\n",
       "      <td>0.353739</td>\n",
       "      <td>0.696087</td>\n",
       "      <td>0.248539</td>\n",
       "      <td>131</td>\n",
       "      <td>670</td>\n",
       "      <td>801</td>\n",
       "    </tr>\n",
       "    <tr>\n",
       "      <th>2</th>\n",
       "      <td>3</td>\n",
       "      <td>2011-01-03</td>\n",
       "      <td>1</td>\n",
       "      <td>0</td>\n",
       "      <td>1</td>\n",
       "      <td>0</td>\n",
       "      <td>1</td>\n",
       "      <td>1</td>\n",
       "      <td>1</td>\n",
       "      <td>0.196364</td>\n",
       "      <td>0.189405</td>\n",
       "      <td>0.437273</td>\n",
       "      <td>0.248309</td>\n",
       "      <td>120</td>\n",
       "      <td>1229</td>\n",
       "      <td>1349</td>\n",
       "    </tr>\n",
       "    <tr>\n",
       "      <th>3</th>\n",
       "      <td>4</td>\n",
       "      <td>2011-01-04</td>\n",
       "      <td>1</td>\n",
       "      <td>0</td>\n",
       "      <td>1</td>\n",
       "      <td>0</td>\n",
       "      <td>2</td>\n",
       "      <td>1</td>\n",
       "      <td>1</td>\n",
       "      <td>0.200000</td>\n",
       "      <td>0.212122</td>\n",
       "      <td>0.590435</td>\n",
       "      <td>0.160296</td>\n",
       "      <td>108</td>\n",
       "      <td>1454</td>\n",
       "      <td>1562</td>\n",
       "    </tr>\n",
       "    <tr>\n",
       "      <th>4</th>\n",
       "      <td>5</td>\n",
       "      <td>2011-01-05</td>\n",
       "      <td>1</td>\n",
       "      <td>0</td>\n",
       "      <td>1</td>\n",
       "      <td>0</td>\n",
       "      <td>3</td>\n",
       "      <td>1</td>\n",
       "      <td>1</td>\n",
       "      <td>0.226957</td>\n",
       "      <td>0.229270</td>\n",
       "      <td>0.436957</td>\n",
       "      <td>0.186900</td>\n",
       "      <td>82</td>\n",
       "      <td>1518</td>\n",
       "      <td>1600</td>\n",
       "    </tr>\n",
       "  </tbody>\n",
       "</table>\n",
       "</div>"
      ],
      "text/plain": [
       "   instant      dteday  season  yr  mnth  holiday  weekday  workingday  \\\n",
       "0        1  2011-01-01       1   0     1        0        6           0   \n",
       "1        2  2011-01-02       1   0     1        0        0           0   \n",
       "2        3  2011-01-03       1   0     1        0        1           1   \n",
       "3        4  2011-01-04       1   0     1        0        2           1   \n",
       "4        5  2011-01-05       1   0     1        0        3           1   \n",
       "\n",
       "   weathersit      temp     atemp       hum  windspeed  casual  registered  \\\n",
       "0           2  0.344167  0.363625  0.805833   0.160446     331         654   \n",
       "1           2  0.363478  0.353739  0.696087   0.248539     131         670   \n",
       "2           1  0.196364  0.189405  0.437273   0.248309     120        1229   \n",
       "3           1  0.200000  0.212122  0.590435   0.160296     108        1454   \n",
       "4           1  0.226957  0.229270  0.436957   0.186900      82        1518   \n",
       "\n",
       "    cnt  \n",
       "0   985  \n",
       "1   801  \n",
       "2  1349  \n",
       "3  1562  \n",
       "4  1600  "
      ]
     },
     "execution_count": 3,
     "metadata": {},
     "output_type": "execute_result"
    }
   ],
   "source": [
    "data_day = pd.read_csv(\"data/day.csv\")\n",
    "data_day.head()"
   ]
  },
  {
   "cell_type": "markdown",
   "metadata": {
    "id": "FHSiqaZp8DC1"
   },
   "source": [
    "### Assessing Data"
   ]
  },
  {
   "cell_type": "markdown",
   "metadata": {
    "id": "FHSiqaZp8DC1"
   },
   "source": [
    "Kemudian, kita menilai kualitas dari data tersebut"
   ]
  },
  {
   "cell_type": "code",
   "execution_count": 4,
   "metadata": {
    "id": "ax-3tEjc9Cj1"
   },
   "outputs": [
    {
     "name": "stdout",
     "output_type": "stream",
     "text": [
      "<class 'pandas.core.frame.DataFrame'>\n",
      "RangeIndex: 17379 entries, 0 to 17378\n",
      "Data columns (total 17 columns):\n",
      " #   Column      Non-Null Count  Dtype  \n",
      "---  ------      --------------  -----  \n",
      " 0   instant     17379 non-null  int64  \n",
      " 1   dteday      17379 non-null  object \n",
      " 2   season      17379 non-null  int64  \n",
      " 3   yr          17379 non-null  int64  \n",
      " 4   mnth        17379 non-null  int64  \n",
      " 5   hr          17379 non-null  int64  \n",
      " 6   holiday     17379 non-null  int64  \n",
      " 7   weekday     17379 non-null  int64  \n",
      " 8   workingday  17379 non-null  int64  \n",
      " 9   weathersit  17379 non-null  int64  \n",
      " 10  temp        17379 non-null  float64\n",
      " 11  atemp       17379 non-null  float64\n",
      " 12  hum         17379 non-null  float64\n",
      " 13  windspeed   17379 non-null  float64\n",
      " 14  casual      17379 non-null  int64  \n",
      " 15  registered  17379 non-null  int64  \n",
      " 16  cnt         17379 non-null  int64  \n",
      "dtypes: float64(4), int64(12), object(1)\n",
      "memory usage: 2.3+ MB\n"
     ]
    }
   ],
   "source": [
    "data_hour.info()"
   ]
  },
  {
   "cell_type": "code",
   "execution_count": 5,
   "metadata": {},
   "outputs": [
    {
     "name": "stdout",
     "output_type": "stream",
     "text": [
      "<class 'pandas.core.frame.DataFrame'>\n",
      "RangeIndex: 731 entries, 0 to 730\n",
      "Data columns (total 16 columns):\n",
      " #   Column      Non-Null Count  Dtype  \n",
      "---  ------      --------------  -----  \n",
      " 0   instant     731 non-null    int64  \n",
      " 1   dteday      731 non-null    object \n",
      " 2   season      731 non-null    int64  \n",
      " 3   yr          731 non-null    int64  \n",
      " 4   mnth        731 non-null    int64  \n",
      " 5   holiday     731 non-null    int64  \n",
      " 6   weekday     731 non-null    int64  \n",
      " 7   workingday  731 non-null    int64  \n",
      " 8   weathersit  731 non-null    int64  \n",
      " 9   temp        731 non-null    float64\n",
      " 10  atemp       731 non-null    float64\n",
      " 11  hum         731 non-null    float64\n",
      " 12  windspeed   731 non-null    float64\n",
      " 13  casual      731 non-null    int64  \n",
      " 14  registered  731 non-null    int64  \n",
      " 15  cnt         731 non-null    int64  \n",
      "dtypes: float64(4), int64(11), object(1)\n",
      "memory usage: 91.5+ KB\n"
     ]
    }
   ],
   "source": [
    "data_day.info()"
   ]
  },
  {
   "cell_type": "markdown",
   "metadata": {
    "id": "MMi6xGaDkbCi"
   },
   "source": [
    "**Insight**\n",
    "- Tidak ada masalah pada data. Jumlah semua data juga sama, menandakan tidak ada missing values. Kita periksa apakah benar tidak ada missing values"
   ]
  },
  {
   "cell_type": "code",
   "execution_count": 6,
   "metadata": {},
   "outputs": [
    {
     "data": {
      "text/plain": [
       "instant       0\n",
       "dteday        0\n",
       "season        0\n",
       "yr            0\n",
       "mnth          0\n",
       "hr            0\n",
       "holiday       0\n",
       "weekday       0\n",
       "workingday    0\n",
       "weathersit    0\n",
       "temp          0\n",
       "atemp         0\n",
       "hum           0\n",
       "windspeed     0\n",
       "casual        0\n",
       "registered    0\n",
       "cnt           0\n",
       "dtype: int64"
      ]
     },
     "execution_count": 6,
     "metadata": {},
     "output_type": "execute_result"
    }
   ],
   "source": [
    "data_hour.isna().sum()"
   ]
  },
  {
   "cell_type": "code",
   "execution_count": 7,
   "metadata": {},
   "outputs": [
    {
     "data": {
      "text/plain": [
       "instant       0\n",
       "dteday        0\n",
       "season        0\n",
       "yr            0\n",
       "mnth          0\n",
       "holiday       0\n",
       "weekday       0\n",
       "workingday    0\n",
       "weathersit    0\n",
       "temp          0\n",
       "atemp         0\n",
       "hum           0\n",
       "windspeed     0\n",
       "casual        0\n",
       "registered    0\n",
       "cnt           0\n",
       "dtype: int64"
      ]
     },
     "execution_count": 7,
     "metadata": {},
     "output_type": "execute_result"
    }
   ],
   "source": [
    "data_day.isna().sum()"
   ]
  },
  {
   "cell_type": "markdown",
   "metadata": {
    "id": "7dtxhAPrkhPL"
   },
   "source": [
    "**Insight:**\n",
    "- Setelah diperiksa benar tidak ada missing values. Kita periksa apakah ada jumlah data duplikasi dari data"
   ]
  },
  {
   "cell_type": "code",
   "execution_count": 8,
   "metadata": {},
   "outputs": [
    {
     "name": "stdout",
     "output_type": "stream",
     "text": [
      "Jumlah duplikat di data per jam :  0\n",
      "Jumlah duplikat di data per hari:  0\n"
     ]
    }
   ],
   "source": [
    "print(\"Jumlah duplikat di data per jam : \",data_hour.duplicated().sum())\n",
    "print(\"Jumlah duplikat di data per hari: \",data_day.duplicated().sum())"
   ]
  },
  {
   "cell_type": "markdown",
   "metadata": {
    "id": "7dtxhAPrkhPL"
   },
   "source": [
    "**Insight:**\n",
    "- Tidak ada duplikasi dalam data. Kita akan menggunakan method describe(). Method tersebut akan menampilkan ringkasan parameter statistik"
   ]
  },
  {
   "cell_type": "code",
   "execution_count": 9,
   "metadata": {},
   "outputs": [
    {
     "data": {
      "text/html": [
       "<div>\n",
       "<style scoped>\n",
       "    .dataframe tbody tr th:only-of-type {\n",
       "        vertical-align: middle;\n",
       "    }\n",
       "\n",
       "    .dataframe tbody tr th {\n",
       "        vertical-align: top;\n",
       "    }\n",
       "\n",
       "    .dataframe thead th {\n",
       "        text-align: right;\n",
       "    }\n",
       "</style>\n",
       "<table border=\"1\" class=\"dataframe\">\n",
       "  <thead>\n",
       "    <tr style=\"text-align: right;\">\n",
       "      <th></th>\n",
       "      <th>instant</th>\n",
       "      <th>season</th>\n",
       "      <th>yr</th>\n",
       "      <th>mnth</th>\n",
       "      <th>hr</th>\n",
       "      <th>holiday</th>\n",
       "      <th>weekday</th>\n",
       "      <th>workingday</th>\n",
       "      <th>weathersit</th>\n",
       "      <th>temp</th>\n",
       "      <th>atemp</th>\n",
       "      <th>hum</th>\n",
       "      <th>windspeed</th>\n",
       "      <th>casual</th>\n",
       "      <th>registered</th>\n",
       "      <th>cnt</th>\n",
       "    </tr>\n",
       "  </thead>\n",
       "  <tbody>\n",
       "    <tr>\n",
       "      <th>count</th>\n",
       "      <td>17379.0000</td>\n",
       "      <td>17379.000000</td>\n",
       "      <td>17379.000000</td>\n",
       "      <td>17379.000000</td>\n",
       "      <td>17379.000000</td>\n",
       "      <td>17379.000000</td>\n",
       "      <td>17379.000000</td>\n",
       "      <td>17379.000000</td>\n",
       "      <td>17379.000000</td>\n",
       "      <td>17379.000000</td>\n",
       "      <td>17379.000000</td>\n",
       "      <td>17379.000000</td>\n",
       "      <td>17379.000000</td>\n",
       "      <td>17379.000000</td>\n",
       "      <td>17379.000000</td>\n",
       "      <td>17379.000000</td>\n",
       "    </tr>\n",
       "    <tr>\n",
       "      <th>mean</th>\n",
       "      <td>8690.0000</td>\n",
       "      <td>2.501640</td>\n",
       "      <td>0.502561</td>\n",
       "      <td>6.537775</td>\n",
       "      <td>11.546752</td>\n",
       "      <td>0.028770</td>\n",
       "      <td>3.003683</td>\n",
       "      <td>0.682721</td>\n",
       "      <td>1.425283</td>\n",
       "      <td>0.496987</td>\n",
       "      <td>0.475775</td>\n",
       "      <td>0.627229</td>\n",
       "      <td>0.190098</td>\n",
       "      <td>35.676218</td>\n",
       "      <td>153.786869</td>\n",
       "      <td>189.463088</td>\n",
       "    </tr>\n",
       "    <tr>\n",
       "      <th>std</th>\n",
       "      <td>5017.0295</td>\n",
       "      <td>1.106918</td>\n",
       "      <td>0.500008</td>\n",
       "      <td>3.438776</td>\n",
       "      <td>6.914405</td>\n",
       "      <td>0.167165</td>\n",
       "      <td>2.005771</td>\n",
       "      <td>0.465431</td>\n",
       "      <td>0.639357</td>\n",
       "      <td>0.192556</td>\n",
       "      <td>0.171850</td>\n",
       "      <td>0.192930</td>\n",
       "      <td>0.122340</td>\n",
       "      <td>49.305030</td>\n",
       "      <td>151.357286</td>\n",
       "      <td>181.387599</td>\n",
       "    </tr>\n",
       "    <tr>\n",
       "      <th>min</th>\n",
       "      <td>1.0000</td>\n",
       "      <td>1.000000</td>\n",
       "      <td>0.000000</td>\n",
       "      <td>1.000000</td>\n",
       "      <td>0.000000</td>\n",
       "      <td>0.000000</td>\n",
       "      <td>0.000000</td>\n",
       "      <td>0.000000</td>\n",
       "      <td>1.000000</td>\n",
       "      <td>0.020000</td>\n",
       "      <td>0.000000</td>\n",
       "      <td>0.000000</td>\n",
       "      <td>0.000000</td>\n",
       "      <td>0.000000</td>\n",
       "      <td>0.000000</td>\n",
       "      <td>1.000000</td>\n",
       "    </tr>\n",
       "    <tr>\n",
       "      <th>25%</th>\n",
       "      <td>4345.5000</td>\n",
       "      <td>2.000000</td>\n",
       "      <td>0.000000</td>\n",
       "      <td>4.000000</td>\n",
       "      <td>6.000000</td>\n",
       "      <td>0.000000</td>\n",
       "      <td>1.000000</td>\n",
       "      <td>0.000000</td>\n",
       "      <td>1.000000</td>\n",
       "      <td>0.340000</td>\n",
       "      <td>0.333300</td>\n",
       "      <td>0.480000</td>\n",
       "      <td>0.104500</td>\n",
       "      <td>4.000000</td>\n",
       "      <td>34.000000</td>\n",
       "      <td>40.000000</td>\n",
       "    </tr>\n",
       "    <tr>\n",
       "      <th>50%</th>\n",
       "      <td>8690.0000</td>\n",
       "      <td>3.000000</td>\n",
       "      <td>1.000000</td>\n",
       "      <td>7.000000</td>\n",
       "      <td>12.000000</td>\n",
       "      <td>0.000000</td>\n",
       "      <td>3.000000</td>\n",
       "      <td>1.000000</td>\n",
       "      <td>1.000000</td>\n",
       "      <td>0.500000</td>\n",
       "      <td>0.484800</td>\n",
       "      <td>0.630000</td>\n",
       "      <td>0.194000</td>\n",
       "      <td>17.000000</td>\n",
       "      <td>115.000000</td>\n",
       "      <td>142.000000</td>\n",
       "    </tr>\n",
       "    <tr>\n",
       "      <th>75%</th>\n",
       "      <td>13034.5000</td>\n",
       "      <td>3.000000</td>\n",
       "      <td>1.000000</td>\n",
       "      <td>10.000000</td>\n",
       "      <td>18.000000</td>\n",
       "      <td>0.000000</td>\n",
       "      <td>5.000000</td>\n",
       "      <td>1.000000</td>\n",
       "      <td>2.000000</td>\n",
       "      <td>0.660000</td>\n",
       "      <td>0.621200</td>\n",
       "      <td>0.780000</td>\n",
       "      <td>0.253700</td>\n",
       "      <td>48.000000</td>\n",
       "      <td>220.000000</td>\n",
       "      <td>281.000000</td>\n",
       "    </tr>\n",
       "    <tr>\n",
       "      <th>max</th>\n",
       "      <td>17379.0000</td>\n",
       "      <td>4.000000</td>\n",
       "      <td>1.000000</td>\n",
       "      <td>12.000000</td>\n",
       "      <td>23.000000</td>\n",
       "      <td>1.000000</td>\n",
       "      <td>6.000000</td>\n",
       "      <td>1.000000</td>\n",
       "      <td>4.000000</td>\n",
       "      <td>1.000000</td>\n",
       "      <td>1.000000</td>\n",
       "      <td>1.000000</td>\n",
       "      <td>0.850700</td>\n",
       "      <td>367.000000</td>\n",
       "      <td>886.000000</td>\n",
       "      <td>977.000000</td>\n",
       "    </tr>\n",
       "  </tbody>\n",
       "</table>\n",
       "</div>"
      ],
      "text/plain": [
       "          instant        season            yr          mnth            hr  \\\n",
       "count  17379.0000  17379.000000  17379.000000  17379.000000  17379.000000   \n",
       "mean    8690.0000      2.501640      0.502561      6.537775     11.546752   \n",
       "std     5017.0295      1.106918      0.500008      3.438776      6.914405   \n",
       "min        1.0000      1.000000      0.000000      1.000000      0.000000   \n",
       "25%     4345.5000      2.000000      0.000000      4.000000      6.000000   \n",
       "50%     8690.0000      3.000000      1.000000      7.000000     12.000000   \n",
       "75%    13034.5000      3.000000      1.000000     10.000000     18.000000   \n",
       "max    17379.0000      4.000000      1.000000     12.000000     23.000000   \n",
       "\n",
       "            holiday       weekday    workingday    weathersit          temp  \\\n",
       "count  17379.000000  17379.000000  17379.000000  17379.000000  17379.000000   \n",
       "mean       0.028770      3.003683      0.682721      1.425283      0.496987   \n",
       "std        0.167165      2.005771      0.465431      0.639357      0.192556   \n",
       "min        0.000000      0.000000      0.000000      1.000000      0.020000   \n",
       "25%        0.000000      1.000000      0.000000      1.000000      0.340000   \n",
       "50%        0.000000      3.000000      1.000000      1.000000      0.500000   \n",
       "75%        0.000000      5.000000      1.000000      2.000000      0.660000   \n",
       "max        1.000000      6.000000      1.000000      4.000000      1.000000   \n",
       "\n",
       "              atemp           hum     windspeed        casual    registered  \\\n",
       "count  17379.000000  17379.000000  17379.000000  17379.000000  17379.000000   \n",
       "mean       0.475775      0.627229      0.190098     35.676218    153.786869   \n",
       "std        0.171850      0.192930      0.122340     49.305030    151.357286   \n",
       "min        0.000000      0.000000      0.000000      0.000000      0.000000   \n",
       "25%        0.333300      0.480000      0.104500      4.000000     34.000000   \n",
       "50%        0.484800      0.630000      0.194000     17.000000    115.000000   \n",
       "75%        0.621200      0.780000      0.253700     48.000000    220.000000   \n",
       "max        1.000000      1.000000      0.850700    367.000000    886.000000   \n",
       "\n",
       "                cnt  \n",
       "count  17379.000000  \n",
       "mean     189.463088  \n",
       "std      181.387599  \n",
       "min        1.000000  \n",
       "25%       40.000000  \n",
       "50%      142.000000  \n",
       "75%      281.000000  \n",
       "max      977.000000  "
      ]
     },
     "execution_count": 9,
     "metadata": {},
     "output_type": "execute_result"
    }
   ],
   "source": [
    "data_hour.describe()"
   ]
  },
  {
   "cell_type": "code",
   "execution_count": 10,
   "metadata": {},
   "outputs": [
    {
     "data": {
      "text/html": [
       "<div>\n",
       "<style scoped>\n",
       "    .dataframe tbody tr th:only-of-type {\n",
       "        vertical-align: middle;\n",
       "    }\n",
       "\n",
       "    .dataframe tbody tr th {\n",
       "        vertical-align: top;\n",
       "    }\n",
       "\n",
       "    .dataframe thead th {\n",
       "        text-align: right;\n",
       "    }\n",
       "</style>\n",
       "<table border=\"1\" class=\"dataframe\">\n",
       "  <thead>\n",
       "    <tr style=\"text-align: right;\">\n",
       "      <th></th>\n",
       "      <th>instant</th>\n",
       "      <th>season</th>\n",
       "      <th>yr</th>\n",
       "      <th>mnth</th>\n",
       "      <th>holiday</th>\n",
       "      <th>weekday</th>\n",
       "      <th>workingday</th>\n",
       "      <th>weathersit</th>\n",
       "      <th>temp</th>\n",
       "      <th>atemp</th>\n",
       "      <th>hum</th>\n",
       "      <th>windspeed</th>\n",
       "      <th>casual</th>\n",
       "      <th>registered</th>\n",
       "      <th>cnt</th>\n",
       "    </tr>\n",
       "  </thead>\n",
       "  <tbody>\n",
       "    <tr>\n",
       "      <th>count</th>\n",
       "      <td>731.000000</td>\n",
       "      <td>731.000000</td>\n",
       "      <td>731.000000</td>\n",
       "      <td>731.000000</td>\n",
       "      <td>731.000000</td>\n",
       "      <td>731.000000</td>\n",
       "      <td>731.000000</td>\n",
       "      <td>731.000000</td>\n",
       "      <td>731.000000</td>\n",
       "      <td>731.000000</td>\n",
       "      <td>731.000000</td>\n",
       "      <td>731.000000</td>\n",
       "      <td>731.000000</td>\n",
       "      <td>731.000000</td>\n",
       "      <td>731.000000</td>\n",
       "    </tr>\n",
       "    <tr>\n",
       "      <th>mean</th>\n",
       "      <td>366.000000</td>\n",
       "      <td>2.496580</td>\n",
       "      <td>0.500684</td>\n",
       "      <td>6.519836</td>\n",
       "      <td>0.028728</td>\n",
       "      <td>2.997264</td>\n",
       "      <td>0.683995</td>\n",
       "      <td>1.395349</td>\n",
       "      <td>0.495385</td>\n",
       "      <td>0.474354</td>\n",
       "      <td>0.627894</td>\n",
       "      <td>0.190486</td>\n",
       "      <td>848.176471</td>\n",
       "      <td>3656.172367</td>\n",
       "      <td>4504.348837</td>\n",
       "    </tr>\n",
       "    <tr>\n",
       "      <th>std</th>\n",
       "      <td>211.165812</td>\n",
       "      <td>1.110807</td>\n",
       "      <td>0.500342</td>\n",
       "      <td>3.451913</td>\n",
       "      <td>0.167155</td>\n",
       "      <td>2.004787</td>\n",
       "      <td>0.465233</td>\n",
       "      <td>0.544894</td>\n",
       "      <td>0.183051</td>\n",
       "      <td>0.162961</td>\n",
       "      <td>0.142429</td>\n",
       "      <td>0.077498</td>\n",
       "      <td>686.622488</td>\n",
       "      <td>1560.256377</td>\n",
       "      <td>1937.211452</td>\n",
       "    </tr>\n",
       "    <tr>\n",
       "      <th>min</th>\n",
       "      <td>1.000000</td>\n",
       "      <td>1.000000</td>\n",
       "      <td>0.000000</td>\n",
       "      <td>1.000000</td>\n",
       "      <td>0.000000</td>\n",
       "      <td>0.000000</td>\n",
       "      <td>0.000000</td>\n",
       "      <td>1.000000</td>\n",
       "      <td>0.059130</td>\n",
       "      <td>0.079070</td>\n",
       "      <td>0.000000</td>\n",
       "      <td>0.022392</td>\n",
       "      <td>2.000000</td>\n",
       "      <td>20.000000</td>\n",
       "      <td>22.000000</td>\n",
       "    </tr>\n",
       "    <tr>\n",
       "      <th>25%</th>\n",
       "      <td>183.500000</td>\n",
       "      <td>2.000000</td>\n",
       "      <td>0.000000</td>\n",
       "      <td>4.000000</td>\n",
       "      <td>0.000000</td>\n",
       "      <td>1.000000</td>\n",
       "      <td>0.000000</td>\n",
       "      <td>1.000000</td>\n",
       "      <td>0.337083</td>\n",
       "      <td>0.337842</td>\n",
       "      <td>0.520000</td>\n",
       "      <td>0.134950</td>\n",
       "      <td>315.500000</td>\n",
       "      <td>2497.000000</td>\n",
       "      <td>3152.000000</td>\n",
       "    </tr>\n",
       "    <tr>\n",
       "      <th>50%</th>\n",
       "      <td>366.000000</td>\n",
       "      <td>3.000000</td>\n",
       "      <td>1.000000</td>\n",
       "      <td>7.000000</td>\n",
       "      <td>0.000000</td>\n",
       "      <td>3.000000</td>\n",
       "      <td>1.000000</td>\n",
       "      <td>1.000000</td>\n",
       "      <td>0.498333</td>\n",
       "      <td>0.486733</td>\n",
       "      <td>0.626667</td>\n",
       "      <td>0.180975</td>\n",
       "      <td>713.000000</td>\n",
       "      <td>3662.000000</td>\n",
       "      <td>4548.000000</td>\n",
       "    </tr>\n",
       "    <tr>\n",
       "      <th>75%</th>\n",
       "      <td>548.500000</td>\n",
       "      <td>3.000000</td>\n",
       "      <td>1.000000</td>\n",
       "      <td>10.000000</td>\n",
       "      <td>0.000000</td>\n",
       "      <td>5.000000</td>\n",
       "      <td>1.000000</td>\n",
       "      <td>2.000000</td>\n",
       "      <td>0.655417</td>\n",
       "      <td>0.608602</td>\n",
       "      <td>0.730209</td>\n",
       "      <td>0.233214</td>\n",
       "      <td>1096.000000</td>\n",
       "      <td>4776.500000</td>\n",
       "      <td>5956.000000</td>\n",
       "    </tr>\n",
       "    <tr>\n",
       "      <th>max</th>\n",
       "      <td>731.000000</td>\n",
       "      <td>4.000000</td>\n",
       "      <td>1.000000</td>\n",
       "      <td>12.000000</td>\n",
       "      <td>1.000000</td>\n",
       "      <td>6.000000</td>\n",
       "      <td>1.000000</td>\n",
       "      <td>3.000000</td>\n",
       "      <td>0.861667</td>\n",
       "      <td>0.840896</td>\n",
       "      <td>0.972500</td>\n",
       "      <td>0.507463</td>\n",
       "      <td>3410.000000</td>\n",
       "      <td>6946.000000</td>\n",
       "      <td>8714.000000</td>\n",
       "    </tr>\n",
       "  </tbody>\n",
       "</table>\n",
       "</div>"
      ],
      "text/plain": [
       "          instant      season          yr        mnth     holiday     weekday  \\\n",
       "count  731.000000  731.000000  731.000000  731.000000  731.000000  731.000000   \n",
       "mean   366.000000    2.496580    0.500684    6.519836    0.028728    2.997264   \n",
       "std    211.165812    1.110807    0.500342    3.451913    0.167155    2.004787   \n",
       "min      1.000000    1.000000    0.000000    1.000000    0.000000    0.000000   \n",
       "25%    183.500000    2.000000    0.000000    4.000000    0.000000    1.000000   \n",
       "50%    366.000000    3.000000    1.000000    7.000000    0.000000    3.000000   \n",
       "75%    548.500000    3.000000    1.000000   10.000000    0.000000    5.000000   \n",
       "max    731.000000    4.000000    1.000000   12.000000    1.000000    6.000000   \n",
       "\n",
       "       workingday  weathersit        temp       atemp         hum   windspeed  \\\n",
       "count  731.000000  731.000000  731.000000  731.000000  731.000000  731.000000   \n",
       "mean     0.683995    1.395349    0.495385    0.474354    0.627894    0.190486   \n",
       "std      0.465233    0.544894    0.183051    0.162961    0.142429    0.077498   \n",
       "min      0.000000    1.000000    0.059130    0.079070    0.000000    0.022392   \n",
       "25%      0.000000    1.000000    0.337083    0.337842    0.520000    0.134950   \n",
       "50%      1.000000    1.000000    0.498333    0.486733    0.626667    0.180975   \n",
       "75%      1.000000    2.000000    0.655417    0.608602    0.730209    0.233214   \n",
       "max      1.000000    3.000000    0.861667    0.840896    0.972500    0.507463   \n",
       "\n",
       "            casual   registered          cnt  \n",
       "count   731.000000   731.000000   731.000000  \n",
       "mean    848.176471  3656.172367  4504.348837  \n",
       "std     686.622488  1560.256377  1937.211452  \n",
       "min       2.000000    20.000000    22.000000  \n",
       "25%     315.500000  2497.000000  3152.000000  \n",
       "50%     713.000000  3662.000000  4548.000000  \n",
       "75%    1096.000000  4776.500000  5956.000000  \n",
       "max    3410.000000  6946.000000  8714.000000  "
      ]
     },
     "execution_count": 10,
     "metadata": {},
     "output_type": "execute_result"
    }
   ],
   "source": [
    "data_day.describe()"
   ]
  },
  {
   "cell_type": "markdown",
   "metadata": {
    "id": "EhN5R4hr8DC1"
   },
   "source": [
    "### Cleaning Data"
   ]
  },
  {
   "cell_type": "markdown",
   "metadata": {
    "id": "Q_5ejIqckiSP"
   },
   "source": [
    "**Insight:**\n",
    "<br>Untuk cleaning data, yang kita akan lakukan adalah:\n",
    "- Menghilangkan kolom instant. Kolom instant hanya berisi record index\n",
    "- Mengubah data yr,mnth, weekday, weathersit,season dari int menjadi string yang berisi data dari Readme.txt (Misal weekday 0 menjadi Minggu)\n",
    "- Mengubah tipe dteday dari object menjadi datetime\n",
    "- Mengalikan temp,atemp,hum,windspeed dengan faktor dari Readme.txt"
   ]
  },
  {
   "cell_type": "markdown",
   "metadata": {
    "id": "EhN5R4hr8DC1"
   },
   "source": [
    "#### Dropping"
   ]
  },
  {
   "cell_type": "code",
   "execution_count": 11,
   "metadata": {
    "id": "jVnYpprE9Evz"
   },
   "outputs": [],
   "source": [
    "data_hour.drop(['instant'],axis=1,inplace=True)\n",
    "data_day.drop(['instant'],axis=1,inplace=True)"
   ]
  },
  {
   "cell_type": "markdown",
   "metadata": {
    "id": "EhN5R4hr8DC1"
   },
   "source": [
    "#### Mengubah data"
   ]
  },
  {
   "cell_type": "code",
   "execution_count": 12,
   "metadata": {
    "id": "jVnYpprE9Evz"
   },
   "outputs": [
    {
     "name": "stderr",
     "output_type": "stream",
     "text": [
      "C:\\Users\\Emil RB\\AppData\\Local\\Temp\\ipykernel_4152\\4095647267.py:2: FutureWarning: A value is trying to be set on a copy of a DataFrame or Series through chained assignment using an inplace method.\n",
      "The behavior will change in pandas 3.0. This inplace method will never work because the intermediate object on which we are setting values always behaves as a copy.\n",
      "\n",
      "For example, when doing 'df[col].method(value, inplace=True)', try using 'df.method({col: value}, inplace=True)' or df[col] = df[col].method(value) instead, to perform the operation inplace on the original object.\n",
      "\n",
      "\n",
      "  data_day.yr.replace((0,1),(2011,2012),inplace=True)\n",
      "C:\\Users\\Emil RB\\AppData\\Local\\Temp\\ipykernel_4152\\4095647267.py:4: FutureWarning: A value is trying to be set on a copy of a DataFrame or Series through chained assignment using an inplace method.\n",
      "The behavior will change in pandas 3.0. This inplace method will never work because the intermediate object on which we are setting values always behaves as a copy.\n",
      "\n",
      "For example, when doing 'df[col].method(value, inplace=True)', try using 'df.method({col: value}, inplace=True)' or df[col] = df[col].method(value) instead, to perform the operation inplace on the original object.\n",
      "\n",
      "\n",
      "  data_day.mnth.replace((1,2,3,4,5,6,7,8,9,10,11,12),('Jan','Feb','Mar','Apr','May','Jun','Jul','Aug','Sep','Oct','Nov','Dec'), inplace=True)\n",
      "C:\\Users\\Emil RB\\AppData\\Local\\Temp\\ipykernel_4152\\4095647267.py:5: FutureWarning: A value is trying to be set on a copy of a DataFrame or Series through chained assignment using an inplace method.\n",
      "The behavior will change in pandas 3.0. This inplace method will never work because the intermediate object on which we are setting values always behaves as a copy.\n",
      "\n",
      "For example, when doing 'df[col].method(value, inplace=True)', try using 'df.method({col: value}, inplace=True)' or df[col] = df[col].method(value) instead, to perform the operation inplace on the original object.\n",
      "\n",
      "\n",
      "  data_hour.mnth.replace((1,2,3,4,5,6,7,8,9,10,11,12),('Jan','Feb','Mar','Apr','May','Jun','Jul','Aug','Sep','Oct','Nov','Dec'), inplace=True)\n",
      "C:\\Users\\Emil RB\\AppData\\Local\\Temp\\ipykernel_4152\\4095647267.py:7: FutureWarning: A value is trying to be set on a copy of a DataFrame or Series through chained assignment using an inplace method.\n",
      "The behavior will change in pandas 3.0. This inplace method will never work because the intermediate object on which we are setting values always behaves as a copy.\n",
      "\n",
      "For example, when doing 'df[col].method(value, inplace=True)', try using 'df.method({col: value}, inplace=True)' or df[col] = df[col].method(value) instead, to perform the operation inplace on the original object.\n",
      "\n",
      "\n",
      "  data_day.weekday.replace((0,1,2,3,4,5,6),('Sun','Mon','Tue','Wed','Thu','Fri','Sat'),inplace=True)\n",
      "C:\\Users\\Emil RB\\AppData\\Local\\Temp\\ipykernel_4152\\4095647267.py:8: FutureWarning: A value is trying to be set on a copy of a DataFrame or Series through chained assignment using an inplace method.\n",
      "The behavior will change in pandas 3.0. This inplace method will never work because the intermediate object on which we are setting values always behaves as a copy.\n",
      "\n",
      "For example, when doing 'df[col].method(value, inplace=True)', try using 'df.method({col: value}, inplace=True)' or df[col] = df[col].method(value) instead, to perform the operation inplace on the original object.\n",
      "\n",
      "\n",
      "  data_hour.weekday.replace((0,1,2,3,4,5,6),('Sun','Mon','Tue','Wed','Thu','Fri','Sat'),inplace=True)\n",
      "C:\\Users\\Emil RB\\AppData\\Local\\Temp\\ipykernel_4152\\4095647267.py:10: FutureWarning: A value is trying to be set on a copy of a DataFrame or Series through chained assignment using an inplace method.\n",
      "The behavior will change in pandas 3.0. This inplace method will never work because the intermediate object on which we are setting values always behaves as a copy.\n",
      "\n",
      "For example, when doing 'df[col].method(value, inplace=True)', try using 'df.method({col: value}, inplace=True)' or df[col] = df[col].method(value) instead, to perform the operation inplace on the original object.\n",
      "\n",
      "\n",
      "  data_day.weathersit.replace((1,2,3,4),('Clear','Mist','Light_rain','Heavy_rain'),inplace=True)\n",
      "C:\\Users\\Emil RB\\AppData\\Local\\Temp\\ipykernel_4152\\4095647267.py:11: FutureWarning: A value is trying to be set on a copy of a DataFrame or Series through chained assignment using an inplace method.\n",
      "The behavior will change in pandas 3.0. This inplace method will never work because the intermediate object on which we are setting values always behaves as a copy.\n",
      "\n",
      "For example, when doing 'df[col].method(value, inplace=True)', try using 'df.method({col: value}, inplace=True)' or df[col] = df[col].method(value) instead, to perform the operation inplace on the original object.\n",
      "\n",
      "\n",
      "  data_hour.weathersit.replace((1,2,3,4),('Clear','Mist','Light_rain','Heavy_rain'),inplace=True)\n",
      "C:\\Users\\Emil RB\\AppData\\Local\\Temp\\ipykernel_4152\\4095647267.py:13: FutureWarning: A value is trying to be set on a copy of a DataFrame or Series through chained assignment using an inplace method.\n",
      "The behavior will change in pandas 3.0. This inplace method will never work because the intermediate object on which we are setting values always behaves as a copy.\n",
      "\n",
      "For example, when doing 'df[col].method(value, inplace=True)', try using 'df.method({col: value}, inplace=True)' or df[col] = df[col].method(value) instead, to perform the operation inplace on the original object.\n",
      "\n",
      "\n",
      "  data_day.season.replace((1,2,3,4), ('Spring','Summer','Fall','Winter'), inplace=True)\n",
      "C:\\Users\\Emil RB\\AppData\\Local\\Temp\\ipykernel_4152\\4095647267.py:14: FutureWarning: A value is trying to be set on a copy of a DataFrame or Series through chained assignment using an inplace method.\n",
      "The behavior will change in pandas 3.0. This inplace method will never work because the intermediate object on which we are setting values always behaves as a copy.\n",
      "\n",
      "For example, when doing 'df[col].method(value, inplace=True)', try using 'df.method({col: value}, inplace=True)' or df[col] = df[col].method(value) instead, to perform the operation inplace on the original object.\n",
      "\n",
      "\n",
      "  data_hour.season.replace((1,2,3,4), ('Spring','Summer','Fall','Winter'), inplace=True)\n"
     ]
    }
   ],
   "source": [
    "#Menubah yr\n",
    "data_day.yr.replace((0,1),(2011,2012),inplace=True)\n",
    "#Mengubah mnth\n",
    "data_day.mnth.replace((1,2,3,4,5,6,7,8,9,10,11,12),('Jan','Feb','Mar','Apr','May','Jun','Jul','Aug','Sep','Oct','Nov','Dec'), inplace=True)\n",
    "data_hour.mnth.replace((1,2,3,4,5,6,7,8,9,10,11,12),('Jan','Feb','Mar','Apr','May','Jun','Jul','Aug','Sep','Oct','Nov','Dec'), inplace=True)\n",
    "#Mengubah weekday\n",
    "data_day.weekday.replace((0,1,2,3,4,5,6),('Sun','Mon','Tue','Wed','Thu','Fri','Sat'),inplace=True)\n",
    "data_hour.weekday.replace((0,1,2,3,4,5,6),('Sun','Mon','Tue','Wed','Thu','Fri','Sat'),inplace=True)\n",
    "#Mengubah weather sit\n",
    "data_day.weathersit.replace((1,2,3,4),('Clear','Mist','Light_rain','Heavy_rain'),inplace=True)\n",
    "data_hour.weathersit.replace((1,2,3,4),('Clear','Mist','Light_rain','Heavy_rain'),inplace=True)                            \n",
    "#Mengubah season\n",
    "data_day.season.replace((1,2,3,4), ('Spring','Summer','Fall','Winter'), inplace=True)\n",
    "data_hour.season.replace((1,2,3,4), ('Spring','Summer','Fall','Winter'), inplace=True)"
   ]
  },
  {
   "cell_type": "markdown",
   "metadata": {
    "id": "EhN5R4hr8DC1"
   },
   "source": [
    "#### Mengubah tipe data dteday"
   ]
  },
  {
   "cell_type": "code",
   "execution_count": 13,
   "metadata": {
    "id": "e9CQCZjk8DC2"
   },
   "outputs": [],
   "source": [
    "data_day['dteday'] = pd.to_datetime(data_day['dteday'])\n",
    "data_hour['dteday'] = pd.to_datetime(data_hour['dteday'])"
   ]
  },
  {
   "cell_type": "markdown",
   "metadata": {
    "id": "EhN5R4hr8DC1"
   },
   "source": [
    "#### Mengalikan dengan faktor pengali"
   ]
  },
  {
   "cell_type": "code",
   "execution_count": 14,
   "metadata": {
    "id": "e9CQCZjk8DC2"
   },
   "outputs": [],
   "source": [
    "data_day['temp'] =data_day['temp']*41\n",
    "data_day['atemp'] =data_day['atemp']*50\n",
    "data_day['hum'] =data_day['hum']*100\n",
    "data_day['windspeed'] =data_day['windspeed']*67\n",
    "data_hour['temp'] =data_hour['temp']*41\n",
    "data_hour['atemp'] =data_hour['atemp']*50\n",
    "data_hour['hum'] =data_hour['hum']*100\n",
    "data_hour['windspeed'] =data_hour['windspeed']*67"
   ]
  },
  {
   "cell_type": "markdown",
   "metadata": {
    "id": "gp-Y6wU38DC1"
   },
   "source": [
    "## Exploratory Data Analysis (EDA)"
   ]
  },
  {
   "cell_type": "markdown",
   "metadata": {
    "id": "MW7WF2kr8DC1"
   },
   "source": [
    "### Explore data_day"
   ]
  },
  {
   "cell_type": "code",
   "execution_count": 15,
   "metadata": {
    "id": "e9CQCZjk8DC2",
    "scrolled": true
   },
   "outputs": [
    {
     "data": {
      "text/html": [
       "<div>\n",
       "<style scoped>\n",
       "    .dataframe tbody tr th:only-of-type {\n",
       "        vertical-align: middle;\n",
       "    }\n",
       "\n",
       "    .dataframe tbody tr th {\n",
       "        vertical-align: top;\n",
       "    }\n",
       "\n",
       "    .dataframe thead th {\n",
       "        text-align: right;\n",
       "    }\n",
       "</style>\n",
       "<table border=\"1\" class=\"dataframe\">\n",
       "  <thead>\n",
       "    <tr style=\"text-align: right;\">\n",
       "      <th></th>\n",
       "      <th>dteday</th>\n",
       "      <th>season</th>\n",
       "      <th>yr</th>\n",
       "      <th>mnth</th>\n",
       "      <th>holiday</th>\n",
       "      <th>weekday</th>\n",
       "      <th>workingday</th>\n",
       "      <th>weathersit</th>\n",
       "      <th>temp</th>\n",
       "      <th>atemp</th>\n",
       "      <th>hum</th>\n",
       "      <th>windspeed</th>\n",
       "      <th>casual</th>\n",
       "      <th>registered</th>\n",
       "      <th>cnt</th>\n",
       "    </tr>\n",
       "  </thead>\n",
       "  <tbody>\n",
       "    <tr>\n",
       "      <th>count</th>\n",
       "      <td>731</td>\n",
       "      <td>731</td>\n",
       "      <td>731.000000</td>\n",
       "      <td>731</td>\n",
       "      <td>731.000000</td>\n",
       "      <td>731</td>\n",
       "      <td>731.000000</td>\n",
       "      <td>731</td>\n",
       "      <td>731.000000</td>\n",
       "      <td>731.000000</td>\n",
       "      <td>731.000000</td>\n",
       "      <td>731.000000</td>\n",
       "      <td>731.000000</td>\n",
       "      <td>731.000000</td>\n",
       "      <td>731.000000</td>\n",
       "    </tr>\n",
       "    <tr>\n",
       "      <th>unique</th>\n",
       "      <td>NaN</td>\n",
       "      <td>4</td>\n",
       "      <td>NaN</td>\n",
       "      <td>12</td>\n",
       "      <td>NaN</td>\n",
       "      <td>7</td>\n",
       "      <td>NaN</td>\n",
       "      <td>3</td>\n",
       "      <td>NaN</td>\n",
       "      <td>NaN</td>\n",
       "      <td>NaN</td>\n",
       "      <td>NaN</td>\n",
       "      <td>NaN</td>\n",
       "      <td>NaN</td>\n",
       "      <td>NaN</td>\n",
       "    </tr>\n",
       "    <tr>\n",
       "      <th>top</th>\n",
       "      <td>NaN</td>\n",
       "      <td>Fall</td>\n",
       "      <td>NaN</td>\n",
       "      <td>Jan</td>\n",
       "      <td>NaN</td>\n",
       "      <td>Sat</td>\n",
       "      <td>NaN</td>\n",
       "      <td>Clear</td>\n",
       "      <td>NaN</td>\n",
       "      <td>NaN</td>\n",
       "      <td>NaN</td>\n",
       "      <td>NaN</td>\n",
       "      <td>NaN</td>\n",
       "      <td>NaN</td>\n",
       "      <td>NaN</td>\n",
       "    </tr>\n",
       "    <tr>\n",
       "      <th>freq</th>\n",
       "      <td>NaN</td>\n",
       "      <td>188</td>\n",
       "      <td>NaN</td>\n",
       "      <td>62</td>\n",
       "      <td>NaN</td>\n",
       "      <td>105</td>\n",
       "      <td>NaN</td>\n",
       "      <td>463</td>\n",
       "      <td>NaN</td>\n",
       "      <td>NaN</td>\n",
       "      <td>NaN</td>\n",
       "      <td>NaN</td>\n",
       "      <td>NaN</td>\n",
       "      <td>NaN</td>\n",
       "      <td>NaN</td>\n",
       "    </tr>\n",
       "    <tr>\n",
       "      <th>mean</th>\n",
       "      <td>2012-01-01 00:00:00</td>\n",
       "      <td>NaN</td>\n",
       "      <td>2011.500684</td>\n",
       "      <td>NaN</td>\n",
       "      <td>0.028728</td>\n",
       "      <td>NaN</td>\n",
       "      <td>0.683995</td>\n",
       "      <td>NaN</td>\n",
       "      <td>20.310776</td>\n",
       "      <td>23.717699</td>\n",
       "      <td>62.789406</td>\n",
       "      <td>12.762576</td>\n",
       "      <td>848.176471</td>\n",
       "      <td>3656.172367</td>\n",
       "      <td>4504.348837</td>\n",
       "    </tr>\n",
       "    <tr>\n",
       "      <th>min</th>\n",
       "      <td>2011-01-01 00:00:00</td>\n",
       "      <td>NaN</td>\n",
       "      <td>2011.000000</td>\n",
       "      <td>NaN</td>\n",
       "      <td>0.000000</td>\n",
       "      <td>NaN</td>\n",
       "      <td>0.000000</td>\n",
       "      <td>NaN</td>\n",
       "      <td>2.424346</td>\n",
       "      <td>3.953480</td>\n",
       "      <td>0.000000</td>\n",
       "      <td>1.500244</td>\n",
       "      <td>2.000000</td>\n",
       "      <td>20.000000</td>\n",
       "      <td>22.000000</td>\n",
       "    </tr>\n",
       "    <tr>\n",
       "      <th>25%</th>\n",
       "      <td>2011-07-02 12:00:00</td>\n",
       "      <td>NaN</td>\n",
       "      <td>2011.000000</td>\n",
       "      <td>NaN</td>\n",
       "      <td>0.000000</td>\n",
       "      <td>NaN</td>\n",
       "      <td>0.000000</td>\n",
       "      <td>NaN</td>\n",
       "      <td>13.820424</td>\n",
       "      <td>16.892125</td>\n",
       "      <td>52.000000</td>\n",
       "      <td>9.041650</td>\n",
       "      <td>315.500000</td>\n",
       "      <td>2497.000000</td>\n",
       "      <td>3152.000000</td>\n",
       "    </tr>\n",
       "    <tr>\n",
       "      <th>50%</th>\n",
       "      <td>2012-01-01 00:00:00</td>\n",
       "      <td>NaN</td>\n",
       "      <td>2012.000000</td>\n",
       "      <td>NaN</td>\n",
       "      <td>0.000000</td>\n",
       "      <td>NaN</td>\n",
       "      <td>1.000000</td>\n",
       "      <td>NaN</td>\n",
       "      <td>20.431653</td>\n",
       "      <td>24.336650</td>\n",
       "      <td>62.666700</td>\n",
       "      <td>12.125325</td>\n",
       "      <td>713.000000</td>\n",
       "      <td>3662.000000</td>\n",
       "      <td>4548.000000</td>\n",
       "    </tr>\n",
       "    <tr>\n",
       "      <th>75%</th>\n",
       "      <td>2012-07-01 12:00:00</td>\n",
       "      <td>NaN</td>\n",
       "      <td>2012.000000</td>\n",
       "      <td>NaN</td>\n",
       "      <td>0.000000</td>\n",
       "      <td>NaN</td>\n",
       "      <td>1.000000</td>\n",
       "      <td>NaN</td>\n",
       "      <td>26.872076</td>\n",
       "      <td>30.430100</td>\n",
       "      <td>73.020850</td>\n",
       "      <td>15.625371</td>\n",
       "      <td>1096.000000</td>\n",
       "      <td>4776.500000</td>\n",
       "      <td>5956.000000</td>\n",
       "    </tr>\n",
       "    <tr>\n",
       "      <th>max</th>\n",
       "      <td>2012-12-31 00:00:00</td>\n",
       "      <td>NaN</td>\n",
       "      <td>2012.000000</td>\n",
       "      <td>NaN</td>\n",
       "      <td>1.000000</td>\n",
       "      <td>NaN</td>\n",
       "      <td>1.000000</td>\n",
       "      <td>NaN</td>\n",
       "      <td>35.328347</td>\n",
       "      <td>42.044800</td>\n",
       "      <td>97.250000</td>\n",
       "      <td>34.000021</td>\n",
       "      <td>3410.000000</td>\n",
       "      <td>6946.000000</td>\n",
       "      <td>8714.000000</td>\n",
       "    </tr>\n",
       "    <tr>\n",
       "      <th>std</th>\n",
       "      <td>NaN</td>\n",
       "      <td>NaN</td>\n",
       "      <td>0.500342</td>\n",
       "      <td>NaN</td>\n",
       "      <td>0.167155</td>\n",
       "      <td>NaN</td>\n",
       "      <td>0.465233</td>\n",
       "      <td>NaN</td>\n",
       "      <td>7.505091</td>\n",
       "      <td>8.148059</td>\n",
       "      <td>14.242910</td>\n",
       "      <td>5.192357</td>\n",
       "      <td>686.622488</td>\n",
       "      <td>1560.256377</td>\n",
       "      <td>1937.211452</td>\n",
       "    </tr>\n",
       "  </tbody>\n",
       "</table>\n",
       "</div>"
      ],
      "text/plain": [
       "                     dteday season           yr mnth     holiday weekday  \\\n",
       "count                   731    731   731.000000  731  731.000000     731   \n",
       "unique                  NaN      4          NaN   12         NaN       7   \n",
       "top                     NaN   Fall          NaN  Jan         NaN     Sat   \n",
       "freq                    NaN    188          NaN   62         NaN     105   \n",
       "mean    2012-01-01 00:00:00    NaN  2011.500684  NaN    0.028728     NaN   \n",
       "min     2011-01-01 00:00:00    NaN  2011.000000  NaN    0.000000     NaN   \n",
       "25%     2011-07-02 12:00:00    NaN  2011.000000  NaN    0.000000     NaN   \n",
       "50%     2012-01-01 00:00:00    NaN  2012.000000  NaN    0.000000     NaN   \n",
       "75%     2012-07-01 12:00:00    NaN  2012.000000  NaN    0.000000     NaN   \n",
       "max     2012-12-31 00:00:00    NaN  2012.000000  NaN    1.000000     NaN   \n",
       "std                     NaN    NaN     0.500342  NaN    0.167155     NaN   \n",
       "\n",
       "        workingday weathersit        temp       atemp         hum   windspeed  \\\n",
       "count   731.000000        731  731.000000  731.000000  731.000000  731.000000   \n",
       "unique         NaN          3         NaN         NaN         NaN         NaN   \n",
       "top            NaN      Clear         NaN         NaN         NaN         NaN   \n",
       "freq           NaN        463         NaN         NaN         NaN         NaN   \n",
       "mean      0.683995        NaN   20.310776   23.717699   62.789406   12.762576   \n",
       "min       0.000000        NaN    2.424346    3.953480    0.000000    1.500244   \n",
       "25%       0.000000        NaN   13.820424   16.892125   52.000000    9.041650   \n",
       "50%       1.000000        NaN   20.431653   24.336650   62.666700   12.125325   \n",
       "75%       1.000000        NaN   26.872076   30.430100   73.020850   15.625371   \n",
       "max       1.000000        NaN   35.328347   42.044800   97.250000   34.000021   \n",
       "std       0.465233        NaN    7.505091    8.148059   14.242910    5.192357   \n",
       "\n",
       "             casual   registered          cnt  \n",
       "count    731.000000   731.000000   731.000000  \n",
       "unique          NaN          NaN          NaN  \n",
       "top             NaN          NaN          NaN  \n",
       "freq            NaN          NaN          NaN  \n",
       "mean     848.176471  3656.172367  4504.348837  \n",
       "min        2.000000    20.000000    22.000000  \n",
       "25%      315.500000  2497.000000  3152.000000  \n",
       "50%      713.000000  3662.000000  4548.000000  \n",
       "75%     1096.000000  4776.500000  5956.000000  \n",
       "max     3410.000000  6946.000000  8714.000000  \n",
       "std      686.622488  1560.256377  1937.211452  "
      ]
     },
     "execution_count": 15,
     "metadata": {},
     "output_type": "execute_result"
    }
   ],
   "source": [
    "data_day.describe(include='all')"
   ]
  },
  {
   "cell_type": "markdown",
   "metadata": {
    "id": "th_Lzl2Fkj9O"
   },
   "source": [
    "**Insight:**\n",
    "- Dari data cnt, kita dapatkan bahwa jumlah penyewaan terendah dalam 1 hari adalah 22 kali\n",
    "- Jumlah penyewaan tertinggi dalam 1 hari adalah 8714 kali\n",
    "- Rata-rata jumlah penyewaan adalah 4504.348837 atau apabila dibulatkan 4504 kali\n",
    "- Standar deviasinya adalah 1937.211452"
   ]
  },
  {
   "cell_type": "code",
   "execution_count": 16,
   "metadata": {
    "id": "e9CQCZjk8DC2",
    "scrolled": true
   },
   "outputs": [
    {
     "data": {
      "text/html": [
       "<div>\n",
       "<style scoped>\n",
       "    .dataframe tbody tr th:only-of-type {\n",
       "        vertical-align: middle;\n",
       "    }\n",
       "\n",
       "    .dataframe tbody tr th {\n",
       "        vertical-align: top;\n",
       "    }\n",
       "\n",
       "    .dataframe thead th {\n",
       "        text-align: right;\n",
       "    }\n",
       "</style>\n",
       "<table border=\"1\" class=\"dataframe\">\n",
       "  <thead>\n",
       "    <tr style=\"text-align: right;\">\n",
       "      <th></th>\n",
       "      <th>weekday</th>\n",
       "      <th>cnt</th>\n",
       "    </tr>\n",
       "  </thead>\n",
       "  <tbody>\n",
       "    <tr>\n",
       "      <th>0</th>\n",
       "      <td>Fri</td>\n",
       "      <td>487790</td>\n",
       "    </tr>\n",
       "    <tr>\n",
       "      <th>1</th>\n",
       "      <td>Thu</td>\n",
       "      <td>485395</td>\n",
       "    </tr>\n",
       "    <tr>\n",
       "      <th>2</th>\n",
       "      <td>Sat</td>\n",
       "      <td>477807</td>\n",
       "    </tr>\n",
       "    <tr>\n",
       "      <th>3</th>\n",
       "      <td>Wed</td>\n",
       "      <td>473048</td>\n",
       "    </tr>\n",
       "    <tr>\n",
       "      <th>4</th>\n",
       "      <td>Tue</td>\n",
       "      <td>469109</td>\n",
       "    </tr>\n",
       "    <tr>\n",
       "      <th>5</th>\n",
       "      <td>Mon</td>\n",
       "      <td>455503</td>\n",
       "    </tr>\n",
       "    <tr>\n",
       "      <th>6</th>\n",
       "      <td>Sun</td>\n",
       "      <td>444027</td>\n",
       "    </tr>\n",
       "  </tbody>\n",
       "</table>\n",
       "</div>"
      ],
      "text/plain": [
       "  weekday     cnt\n",
       "0     Fri  487790\n",
       "1     Thu  485395\n",
       "2     Sat  477807\n",
       "3     Wed  473048\n",
       "4     Tue  469109\n",
       "5     Mon  455503\n",
       "6     Sun  444027"
      ]
     },
     "execution_count": 16,
     "metadata": {},
     "output_type": "execute_result"
    }
   ],
   "source": [
    "#Melihat jumlah penyewaan tiap hari\n",
    "data_day.groupby(by=\"weekday\").cnt.sum().sort_values(ascending=False).reset_index().head(10)"
   ]
  },
  {
   "cell_type": "markdown",
   "metadata": {
    "id": "th_Lzl2Fkj9O"
   },
   "source": [
    "**Insight:**\n",
    "- Dari data, kita dapat simpulkan bahwa hari jumat merupakan hari dengan penyewaan sepeda terbanyak dan hari minggu adalah hari dengan penyewaan sepeda paling sedikit"
   ]
  },
  {
   "cell_type": "markdown",
   "metadata": {
    "id": "MW7WF2kr8DC1"
   },
   "source": [
    "### Explore data_hour"
   ]
  },
  {
   "cell_type": "code",
   "execution_count": 17,
   "metadata": {
    "id": "e9CQCZjk8DC2"
   },
   "outputs": [
    {
     "data": {
      "text/html": [
       "<div>\n",
       "<style scoped>\n",
       "    .dataframe tbody tr th:only-of-type {\n",
       "        vertical-align: middle;\n",
       "    }\n",
       "\n",
       "    .dataframe tbody tr th {\n",
       "        vertical-align: top;\n",
       "    }\n",
       "\n",
       "    .dataframe thead th {\n",
       "        text-align: right;\n",
       "    }\n",
       "</style>\n",
       "<table border=\"1\" class=\"dataframe\">\n",
       "  <thead>\n",
       "    <tr style=\"text-align: right;\">\n",
       "      <th></th>\n",
       "      <th>dteday</th>\n",
       "      <th>season</th>\n",
       "      <th>yr</th>\n",
       "      <th>mnth</th>\n",
       "      <th>hr</th>\n",
       "      <th>holiday</th>\n",
       "      <th>weekday</th>\n",
       "      <th>workingday</th>\n",
       "      <th>weathersit</th>\n",
       "      <th>temp</th>\n",
       "      <th>atemp</th>\n",
       "      <th>hum</th>\n",
       "      <th>windspeed</th>\n",
       "      <th>casual</th>\n",
       "      <th>registered</th>\n",
       "      <th>cnt</th>\n",
       "    </tr>\n",
       "  </thead>\n",
       "  <tbody>\n",
       "    <tr>\n",
       "      <th>count</th>\n",
       "      <td>17379</td>\n",
       "      <td>17379</td>\n",
       "      <td>17379.000000</td>\n",
       "      <td>17379</td>\n",
       "      <td>17379.000000</td>\n",
       "      <td>17379.000000</td>\n",
       "      <td>17379</td>\n",
       "      <td>17379.000000</td>\n",
       "      <td>17379</td>\n",
       "      <td>17379.000000</td>\n",
       "      <td>17379.000000</td>\n",
       "      <td>17379.000000</td>\n",
       "      <td>17379.000000</td>\n",
       "      <td>17379.000000</td>\n",
       "      <td>17379.000000</td>\n",
       "      <td>17379.000000</td>\n",
       "    </tr>\n",
       "    <tr>\n",
       "      <th>unique</th>\n",
       "      <td>NaN</td>\n",
       "      <td>4</td>\n",
       "      <td>NaN</td>\n",
       "      <td>12</td>\n",
       "      <td>NaN</td>\n",
       "      <td>NaN</td>\n",
       "      <td>7</td>\n",
       "      <td>NaN</td>\n",
       "      <td>4</td>\n",
       "      <td>NaN</td>\n",
       "      <td>NaN</td>\n",
       "      <td>NaN</td>\n",
       "      <td>NaN</td>\n",
       "      <td>NaN</td>\n",
       "      <td>NaN</td>\n",
       "      <td>NaN</td>\n",
       "    </tr>\n",
       "    <tr>\n",
       "      <th>top</th>\n",
       "      <td>NaN</td>\n",
       "      <td>Fall</td>\n",
       "      <td>NaN</td>\n",
       "      <td>Jul</td>\n",
       "      <td>NaN</td>\n",
       "      <td>NaN</td>\n",
       "      <td>Sat</td>\n",
       "      <td>NaN</td>\n",
       "      <td>Clear</td>\n",
       "      <td>NaN</td>\n",
       "      <td>NaN</td>\n",
       "      <td>NaN</td>\n",
       "      <td>NaN</td>\n",
       "      <td>NaN</td>\n",
       "      <td>NaN</td>\n",
       "      <td>NaN</td>\n",
       "    </tr>\n",
       "    <tr>\n",
       "      <th>freq</th>\n",
       "      <td>NaN</td>\n",
       "      <td>4496</td>\n",
       "      <td>NaN</td>\n",
       "      <td>1488</td>\n",
       "      <td>NaN</td>\n",
       "      <td>NaN</td>\n",
       "      <td>2512</td>\n",
       "      <td>NaN</td>\n",
       "      <td>11413</td>\n",
       "      <td>NaN</td>\n",
       "      <td>NaN</td>\n",
       "      <td>NaN</td>\n",
       "      <td>NaN</td>\n",
       "      <td>NaN</td>\n",
       "      <td>NaN</td>\n",
       "      <td>NaN</td>\n",
       "    </tr>\n",
       "    <tr>\n",
       "      <th>mean</th>\n",
       "      <td>2012-01-02 04:08:34.552045568</td>\n",
       "      <td>NaN</td>\n",
       "      <td>0.502561</td>\n",
       "      <td>NaN</td>\n",
       "      <td>11.546752</td>\n",
       "      <td>0.028770</td>\n",
       "      <td>NaN</td>\n",
       "      <td>0.682721</td>\n",
       "      <td>NaN</td>\n",
       "      <td>20.376474</td>\n",
       "      <td>23.788755</td>\n",
       "      <td>62.722884</td>\n",
       "      <td>12.736540</td>\n",
       "      <td>35.676218</td>\n",
       "      <td>153.786869</td>\n",
       "      <td>189.463088</td>\n",
       "    </tr>\n",
       "    <tr>\n",
       "      <th>min</th>\n",
       "      <td>2011-01-01 00:00:00</td>\n",
       "      <td>NaN</td>\n",
       "      <td>0.000000</td>\n",
       "      <td>NaN</td>\n",
       "      <td>0.000000</td>\n",
       "      <td>0.000000</td>\n",
       "      <td>NaN</td>\n",
       "      <td>0.000000</td>\n",
       "      <td>NaN</td>\n",
       "      <td>0.820000</td>\n",
       "      <td>0.000000</td>\n",
       "      <td>0.000000</td>\n",
       "      <td>0.000000</td>\n",
       "      <td>0.000000</td>\n",
       "      <td>0.000000</td>\n",
       "      <td>1.000000</td>\n",
       "    </tr>\n",
       "    <tr>\n",
       "      <th>25%</th>\n",
       "      <td>2011-07-04 00:00:00</td>\n",
       "      <td>NaN</td>\n",
       "      <td>0.000000</td>\n",
       "      <td>NaN</td>\n",
       "      <td>6.000000</td>\n",
       "      <td>0.000000</td>\n",
       "      <td>NaN</td>\n",
       "      <td>0.000000</td>\n",
       "      <td>NaN</td>\n",
       "      <td>13.940000</td>\n",
       "      <td>16.665000</td>\n",
       "      <td>48.000000</td>\n",
       "      <td>7.001500</td>\n",
       "      <td>4.000000</td>\n",
       "      <td>34.000000</td>\n",
       "      <td>40.000000</td>\n",
       "    </tr>\n",
       "    <tr>\n",
       "      <th>50%</th>\n",
       "      <td>2012-01-02 00:00:00</td>\n",
       "      <td>NaN</td>\n",
       "      <td>1.000000</td>\n",
       "      <td>NaN</td>\n",
       "      <td>12.000000</td>\n",
       "      <td>0.000000</td>\n",
       "      <td>NaN</td>\n",
       "      <td>1.000000</td>\n",
       "      <td>NaN</td>\n",
       "      <td>20.500000</td>\n",
       "      <td>24.240000</td>\n",
       "      <td>63.000000</td>\n",
       "      <td>12.998000</td>\n",
       "      <td>17.000000</td>\n",
       "      <td>115.000000</td>\n",
       "      <td>142.000000</td>\n",
       "    </tr>\n",
       "    <tr>\n",
       "      <th>75%</th>\n",
       "      <td>2012-07-02 00:00:00</td>\n",
       "      <td>NaN</td>\n",
       "      <td>1.000000</td>\n",
       "      <td>NaN</td>\n",
       "      <td>18.000000</td>\n",
       "      <td>0.000000</td>\n",
       "      <td>NaN</td>\n",
       "      <td>1.000000</td>\n",
       "      <td>NaN</td>\n",
       "      <td>27.060000</td>\n",
       "      <td>31.060000</td>\n",
       "      <td>78.000000</td>\n",
       "      <td>16.997900</td>\n",
       "      <td>48.000000</td>\n",
       "      <td>220.000000</td>\n",
       "      <td>281.000000</td>\n",
       "    </tr>\n",
       "    <tr>\n",
       "      <th>max</th>\n",
       "      <td>2012-12-31 00:00:00</td>\n",
       "      <td>NaN</td>\n",
       "      <td>1.000000</td>\n",
       "      <td>NaN</td>\n",
       "      <td>23.000000</td>\n",
       "      <td>1.000000</td>\n",
       "      <td>NaN</td>\n",
       "      <td>1.000000</td>\n",
       "      <td>NaN</td>\n",
       "      <td>41.000000</td>\n",
       "      <td>50.000000</td>\n",
       "      <td>100.000000</td>\n",
       "      <td>56.996900</td>\n",
       "      <td>367.000000</td>\n",
       "      <td>886.000000</td>\n",
       "      <td>977.000000</td>\n",
       "    </tr>\n",
       "    <tr>\n",
       "      <th>std</th>\n",
       "      <td>NaN</td>\n",
       "      <td>NaN</td>\n",
       "      <td>0.500008</td>\n",
       "      <td>NaN</td>\n",
       "      <td>6.914405</td>\n",
       "      <td>0.167165</td>\n",
       "      <td>NaN</td>\n",
       "      <td>0.465431</td>\n",
       "      <td>NaN</td>\n",
       "      <td>7.894801</td>\n",
       "      <td>8.592511</td>\n",
       "      <td>19.292983</td>\n",
       "      <td>8.196795</td>\n",
       "      <td>49.305030</td>\n",
       "      <td>151.357286</td>\n",
       "      <td>181.387599</td>\n",
       "    </tr>\n",
       "  </tbody>\n",
       "</table>\n",
       "</div>"
      ],
      "text/plain": [
       "                               dteday season            yr   mnth  \\\n",
       "count                           17379  17379  17379.000000  17379   \n",
       "unique                            NaN      4           NaN     12   \n",
       "top                               NaN   Fall           NaN    Jul   \n",
       "freq                              NaN   4496           NaN   1488   \n",
       "mean    2012-01-02 04:08:34.552045568    NaN      0.502561    NaN   \n",
       "min               2011-01-01 00:00:00    NaN      0.000000    NaN   \n",
       "25%               2011-07-04 00:00:00    NaN      0.000000    NaN   \n",
       "50%               2012-01-02 00:00:00    NaN      1.000000    NaN   \n",
       "75%               2012-07-02 00:00:00    NaN      1.000000    NaN   \n",
       "max               2012-12-31 00:00:00    NaN      1.000000    NaN   \n",
       "std                               NaN    NaN      0.500008    NaN   \n",
       "\n",
       "                  hr       holiday weekday    workingday weathersit  \\\n",
       "count   17379.000000  17379.000000   17379  17379.000000      17379   \n",
       "unique           NaN           NaN       7           NaN          4   \n",
       "top              NaN           NaN     Sat           NaN      Clear   \n",
       "freq             NaN           NaN    2512           NaN      11413   \n",
       "mean       11.546752      0.028770     NaN      0.682721        NaN   \n",
       "min         0.000000      0.000000     NaN      0.000000        NaN   \n",
       "25%         6.000000      0.000000     NaN      0.000000        NaN   \n",
       "50%        12.000000      0.000000     NaN      1.000000        NaN   \n",
       "75%        18.000000      0.000000     NaN      1.000000        NaN   \n",
       "max        23.000000      1.000000     NaN      1.000000        NaN   \n",
       "std         6.914405      0.167165     NaN      0.465431        NaN   \n",
       "\n",
       "                temp         atemp           hum     windspeed        casual  \\\n",
       "count   17379.000000  17379.000000  17379.000000  17379.000000  17379.000000   \n",
       "unique           NaN           NaN           NaN           NaN           NaN   \n",
       "top              NaN           NaN           NaN           NaN           NaN   \n",
       "freq             NaN           NaN           NaN           NaN           NaN   \n",
       "mean       20.376474     23.788755     62.722884     12.736540     35.676218   \n",
       "min         0.820000      0.000000      0.000000      0.000000      0.000000   \n",
       "25%        13.940000     16.665000     48.000000      7.001500      4.000000   \n",
       "50%        20.500000     24.240000     63.000000     12.998000     17.000000   \n",
       "75%        27.060000     31.060000     78.000000     16.997900     48.000000   \n",
       "max        41.000000     50.000000    100.000000     56.996900    367.000000   \n",
       "std         7.894801      8.592511     19.292983      8.196795     49.305030   \n",
       "\n",
       "          registered           cnt  \n",
       "count   17379.000000  17379.000000  \n",
       "unique           NaN           NaN  \n",
       "top              NaN           NaN  \n",
       "freq             NaN           NaN  \n",
       "mean      153.786869    189.463088  \n",
       "min         0.000000      1.000000  \n",
       "25%        34.000000     40.000000  \n",
       "50%       115.000000    142.000000  \n",
       "75%       220.000000    281.000000  \n",
       "max       886.000000    977.000000  \n",
       "std       151.357286    181.387599  "
      ]
     },
     "execution_count": 17,
     "metadata": {},
     "output_type": "execute_result"
    }
   ],
   "source": [
    "data_hour.describe(include='all')"
   ]
  },
  {
   "cell_type": "markdown",
   "metadata": {
    "id": "th_Lzl2Fkj9O"
   },
   "source": [
    "**Insight:**\n",
    "- Dari data cnt, kita dapatkan bahwa jumlah penyewaan terendah dalam 1 jam adalah 1 kali\n",
    "- Jumlah penyewaan tertinggi dalam 1 jam adalah 977 kali\n",
    "- Rata-rata jumlah penyewaan adalah 189,463088 atau apabila dibulatkan 189 kali\n",
    "- Standar deviasinya adalah 181.387599"
   ]
  },
  {
   "cell_type": "code",
   "execution_count": 18,
   "metadata": {
    "id": "e9CQCZjk8DC2"
   },
   "outputs": [
    {
     "data": {
      "text/html": [
       "<div>\n",
       "<style scoped>\n",
       "    .dataframe tbody tr th:only-of-type {\n",
       "        vertical-align: middle;\n",
       "    }\n",
       "\n",
       "    .dataframe tbody tr th {\n",
       "        vertical-align: top;\n",
       "    }\n",
       "\n",
       "    .dataframe thead th {\n",
       "        text-align: right;\n",
       "    }\n",
       "</style>\n",
       "<table border=\"1\" class=\"dataframe\">\n",
       "  <thead>\n",
       "    <tr style=\"text-align: right;\">\n",
       "      <th></th>\n",
       "      <th>weathersit</th>\n",
       "      <th>cnt</th>\n",
       "    </tr>\n",
       "  </thead>\n",
       "  <tbody>\n",
       "    <tr>\n",
       "      <th>0</th>\n",
       "      <td>Clear</td>\n",
       "      <td>2338173</td>\n",
       "    </tr>\n",
       "    <tr>\n",
       "      <th>1</th>\n",
       "      <td>Mist</td>\n",
       "      <td>795952</td>\n",
       "    </tr>\n",
       "    <tr>\n",
       "      <th>2</th>\n",
       "      <td>Light_rain</td>\n",
       "      <td>158331</td>\n",
       "    </tr>\n",
       "    <tr>\n",
       "      <th>3</th>\n",
       "      <td>Heavy_rain</td>\n",
       "      <td>223</td>\n",
       "    </tr>\n",
       "  </tbody>\n",
       "</table>\n",
       "</div>"
      ],
      "text/plain": [
       "   weathersit      cnt\n",
       "0       Clear  2338173\n",
       "1        Mist   795952\n",
       "2  Light_rain   158331\n",
       "3  Heavy_rain      223"
      ]
     },
     "execution_count": 18,
     "metadata": {},
     "output_type": "execute_result"
    }
   ],
   "source": [
    "#Melihat jumlah penyewaan berdasarkan cuaca\n",
    "data_hour.groupby(by=\"weathersit\").cnt.sum().sort_values(ascending=False).reset_index().head(10)"
   ]
  },
  {
   "cell_type": "markdown",
   "metadata": {
    "id": "th_Lzl2Fkj9O"
   },
   "source": [
    "**Insight:**\n",
    "<br>Dari data dapat disimpulkan bahwa keadaan clear atau cerah merupakan saat penyewaan sepeda paling banyak. Pada saat cuaca Heavy_rain atau cuaca paling buruk, jumlah penyewaan paling sedikit."
   ]
  },
  {
   "cell_type": "markdown",
   "metadata": {
    "id": "zsyZjqak8DC2"
   },
   "source": [
    "## Visualization & Explanatory Analysis"
   ]
  },
  {
   "cell_type": "markdown",
   "metadata": {
    "id": "th_Lzl2Fkj9O"
   },
   "source": [
    "- Pada hari apa penyewaan sepeda paling banyak dan paling sedikit?\n",
    "- Pada cuaca apa penyewaan sepeda paling banyak?\n",
    "- Bagaimana perkembangan penyewaan sepeda oleh registered user dan casual user tiap bulan dari tahun 2011 sampai 2012? "
   ]
  },
  {
   "cell_type": "markdown",
   "metadata": {
    "id": "HZxOiQ6n8DC2"
   },
   "source": [
    "### Pertanyaan 1: Pada hari apa penyewaan sepeda paling banyak dan paling sedikit?"
   ]
  },
  {
   "cell_type": "code",
   "execution_count": 19,
   "metadata": {
    "id": "1swJUdAD8DC2"
   },
   "outputs": [],
   "source": [
    "#Melakukan grouping terhadap weekday\n",
    "sum_order_items = data_day.groupby(\"weekday\").cnt.sum().sort_values(ascending=False).reset_index()"
   ]
  },
  {
   "cell_type": "code",
   "execution_count": 20,
   "metadata": {
    "id": "1swJUdAD8DC2"
   },
   "outputs": [
    {
     "name": "stderr",
     "output_type": "stream",
     "text": [
      "C:\\Users\\Emil RB\\AppData\\Local\\Temp\\ipykernel_4152\\3679361699.py:3: FutureWarning: \n",
      "\n",
      "Passing `palette` without assigning `hue` is deprecated and will be removed in v0.14.0. Assign the `y` variable to `hue` and set `legend=False` for the same effect.\n",
      "\n",
      "  sns.barplot(\n"
     ]
    },
    {
     "data": {
      "image/png": "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",
      "text/plain": [
       "<Figure size 1000x500 with 1 Axes>"
      ]
     },
     "metadata": {},
     "output_type": "display_data"
    }
   ],
   "source": [
    "plt.figure(figsize=(10, 5))\n",
    "colors = [\"#72BCD4\", \"#D3D3D3\", \"#D3D3D3\", \"#D3D3D3\", \"#D3D3D3\",\"#D3D3D3\",\"#EE4B2B\"] \n",
    "sns.barplot(\n",
    "    y=\"weekday\", \n",
    "    x=\"cnt\",\n",
    "    data=sum_order_items.sort_values(by=\"cnt\", ascending=False),\n",
    "    palette=colors\n",
    ")\n",
    "plt.title(\"Jumlah Sewa Tiap Hari\", loc=\"center\", fontsize=15)\n",
    "plt.ylabel(None)\n",
    "plt.xlabel(None)\n",
    "plt.tick_params(axis='x', labelsize=12)\n",
    "plt.show()"
   ]
  },
  {
   "cell_type": "markdown",
   "metadata": {
    "id": "th_Lzl2Fkj9O"
   },
   "source": [
    "Dapat dilihat bahwa jumlah sewa sepeda tertinggi ada di hari jumat dengan jumlah 487790 dan jumlah sewa sepeda terendah ada pada hari minggu dengan jumlah 444027."
   ]
  },
  {
   "cell_type": "markdown",
   "metadata": {
    "id": "DgHI7CiU8DC2"
   },
   "source": [
    "### Pertanyaan 2: Pada cuaca apa penyewaan sepeda paling banyak?"
   ]
  },
  {
   "cell_type": "code",
   "execution_count": 21,
   "metadata": {
    "id": "Go0lCsvO8DC2"
   },
   "outputs": [],
   "source": [
    "#Melakukan grouping terhadap weathersit\n",
    "sum_order_items_cuaca= data_hour.groupby(\"weathersit\").cnt.sum().sort_values(ascending=False).reset_index()"
   ]
  },
  {
   "cell_type": "code",
   "execution_count": 22,
   "metadata": {
    "id": "Go0lCsvO8DC2"
   },
   "outputs": [
    {
     "name": "stderr",
     "output_type": "stream",
     "text": [
      "C:\\Users\\Emil RB\\AppData\\Local\\Temp\\ipykernel_4152\\168313378.py:2: FutureWarning: \n",
      "\n",
      "Passing `palette` without assigning `hue` is deprecated and will be removed in v0.14.0. Assign the `x` variable to `hue` and set `legend=False` for the same effect.\n",
      "\n",
      "  sns.barplot(\n",
      "C:\\Users\\Emil RB\\AppData\\Local\\Temp\\ipykernel_4152\\168313378.py:2: UserWarning: The palette list has more values (7) than needed (4), which may not be intended.\n",
      "  sns.barplot(\n"
     ]
    },
    {
     "data": {
      "image/png": "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",
      "text/plain": [
       "<Figure size 1000x500 with 1 Axes>"
      ]
     },
     "metadata": {},
     "output_type": "display_data"
    }
   ],
   "source": [
    "plt.figure(figsize=(10,5))\n",
    "sns.barplot(\n",
    "    y=\"cnt\", \n",
    "    x=\"weathersit\",\n",
    "    data=sum_order_items_cuaca.sort_values(by=\"cnt\", ascending=False),\n",
    "    palette=colors\n",
    ")\n",
    "plt.title(\"Jumlah Sewa Tiap Cuaca\", loc=\"center\", fontsize=15)\n",
    "plt.ylabel(None)\n",
    "plt.xlabel(None)\n",
    "plt.tick_params(axis='x', labelsize=12)\n",
    "plt.show()"
   ]
  },
  {
   "cell_type": "markdown",
   "metadata": {
    "id": "_0-36BDLklRg"
   },
   "source": [
    "Dari data dapat dilihat bahwa cuaca clear atau cerah memiliki jumlah penyewaan sepeda terbanyak dengan jumlah 2338173."
   ]
  },
  {
   "cell_type": "markdown",
   "metadata": {
    "id": "DgHI7CiU8DC2"
   },
   "source": [
    "### Pertanyaan 3: Bagaimana perkembangan jumlah penyewaan sepeda oleh registered user dan casual user tiap bulan dari tahun 2011 sampai 2012? "
   ]
  },
  {
   "cell_type": "code",
   "execution_count": 23,
   "metadata": {
    "id": "Go0lCsvO8DC2"
   },
   "outputs": [],
   "source": [
    "#Resample data menjadi bulanan untuk Registered\n",
    "monthly_orders_regis = data_day.resample(rule='ME', on='dteday').agg({\n",
    "    \"registered\": \"sum\",\n",
    "})\n",
    "monthly_orders_regis.index = monthly_orders_regis.index.strftime('%Y-%m')\n",
    "monthly_orders_regis = monthly_orders_regis.reset_index()\n",
    "monthly_orders_regis.rename(columns={\n",
    "    \"registered\": \"order_registered\",\n",
    "}, inplace=True)\n",
    "\n",
    "#Resample data menjadi bulanan untuk casual\n",
    "monthly_orders_cas = data_day.resample(rule='ME', on='dteday').agg({\n",
    "    \"casual\": \"sum\",\n",
    "})\n",
    "monthly_orders_cas.index = monthly_orders_cas.index.strftime('%Y-%m')\n",
    "monthly_orders_cas = monthly_orders_cas.reset_index()\n",
    "monthly_orders_cas.rename(columns={\n",
    "    \"casual\": \"order_casual\",\n",
    "}, inplace=True)"
   ]
  },
  {
   "cell_type": "code",
   "execution_count": 24,
   "metadata": {},
   "outputs": [
    {
     "data": {
      "image/png": "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",
      "text/plain": [
       "<Figure size 2000x1000 with 1 Axes>"
      ]
     },
     "metadata": {},
     "output_type": "display_data"
    }
   ],
   "source": [
    "#Plot grafik\n",
    "plt.figure(figsize=(20, 10)) \n",
    "plt.plot(monthly_orders_regis[\"dteday\"], monthly_orders_regis[\"order_registered\"],label=\"Registered\", marker='o', linewidth=2, color=\"#72BCD4\") \n",
    "plt.plot(monthly_orders_cas[\"dteday\"],monthly_orders_cas[\"order_casual\"],label=\"Casual\",marker='o', linewidth=2, color=\"#FFA500\")\n",
    "plt.title(\"Jumlah Sewa Sepeda Tiap Bulan (2011-2012)\", loc=\"center\", fontsize=20) \n",
    "plt.xticks(fontsize=10) \n",
    "plt.yticks(fontsize=10) \n",
    "plt.xticks(rotation=45)\n",
    "plt.legend()\n",
    "plt.show()"
   ]
  },
  {
   "cell_type": "markdown",
   "metadata": {
    "id": "_0-36BDLklRg"
   },
   "source": [
    "Dari grafik dapat dilihat bahwa registered dan casual user memiliki trend yang mirip. Registered dan casual user memiliki jumlah order terbanyak di bulan september 2012. Ada penurunan pada jumlah sewa sepeda yang cukup besar di bulan Oktober sampai Desember 2012. Perkembangan paling besar terjadi pada awal tahun 2012 yaitu pada bulan Januari. "
   ]
  },
  {
   "cell_type": "markdown",
   "metadata": {
    "id": "9y4VUsmcYNZ5"
   },
   "source": [
    "## Analisis Lanjutan (Opsional)"
   ]
  },
  {
   "cell_type": "markdown",
   "metadata": {
    "id": "9y4VUsmcYNZ5"
   },
   "source": [
    "### Analisis Clustering tanpa algoritma machine learning"
   ]
  },
  {
   "cell_type": "markdown",
   "metadata": {
    "id": "9y4VUsmcYNZ5"
   },
   "source": [
    "Untuk metode analisis yang bisa diterapkan:\n",
    "- Manual Grouping: Menentukan kriteria pengelompokan berdasarkan aturan bisnis atau pemahaman domain, seperti mengelompokkan pelanggan berdasarkan rentang usia, pendapatan, atau jumlah transaksi.\n",
    "- Binning: Menggunakan teknik binning untuk membagi data ke dalam interval atau kategori tertentu.\n",
    "<br><br>Kita akan menggunakan manual grouping untuk menentukan total pengguna berdasarkan temperature dan berdasarkan waktu (Pagi-Malam)"
   ]
  },
  {
   "cell_type": "markdown",
   "metadata": {
    "id": "9y4VUsmcYNZ5"
   },
   "source": [
    "#### Total Pengguna Berdasarkan Suhu Lingkungan"
   ]
  },
  {
   "cell_type": "markdown",
   "metadata": {
    "id": "9y4VUsmcYNZ5"
   },
   "source": [
    "Untuk pengelompokkan suhu, kita menggunakan \"atemp\" atau feeling temperature yaitu temperature yang dirasakan oleh orang-orang. Untuk pengelompokkan temperatur, kita akan mengelompokkan:\n",
    "- <0 Derajat (Beku)\n",
    "- 0-10 derajat (Dingin)\n",
    "- 10-20 derajat (Sejuk)\n",
    "- 20-30 derajat (Hangat)\n",
    "- 30-40 derajat (Panas)\n",
    "- 40<Derajat (Panas Sekali)"
   ]
  },
  {
   "cell_type": "code",
   "execution_count": 25,
   "metadata": {
    "id": "iWhnzsJGYUCO"
   },
   "outputs": [],
   "source": [
    "def classify_temp(atemp):\n",
    "    if atemp < 0:\n",
    "        return \"Beku\"\n",
    "    elif atemp >= 0 and atemp < 10:\n",
    "        return \"Dingin\"\n",
    "    elif atemp >= 10 and atemp < 20:\n",
    "        return \"Sejuk\"\n",
    "    elif atemp >= 20 and atemp < 30:\n",
    "        return \"Hangat\"\n",
    "    elif atemp >= 30 and atemp <= 40:\n",
    "        return \"Panas\"\n",
    "    else:\n",
    "        return \"Panas Sekali\"\n",
    "\n",
    "data_hour[\"temp_category\"] = data_hour[\"atemp\"].apply(classify_temp)\n",
    "data_day[\"temp_category\"] = data_day[\"atemp\"].apply(classify_temp)"
   ]
  },
  {
   "cell_type": "code",
   "execution_count": 26,
   "metadata": {},
   "outputs": [
    {
     "data": {
      "text/html": [
       "<div>\n",
       "<style scoped>\n",
       "    .dataframe tbody tr th:only-of-type {\n",
       "        vertical-align: middle;\n",
       "    }\n",
       "\n",
       "    .dataframe tbody tr th {\n",
       "        vertical-align: top;\n",
       "    }\n",
       "\n",
       "    .dataframe thead th {\n",
       "        text-align: right;\n",
       "    }\n",
       "</style>\n",
       "<table border=\"1\" class=\"dataframe\">\n",
       "  <thead>\n",
       "    <tr style=\"text-align: right;\">\n",
       "      <th></th>\n",
       "      <th>temp_category</th>\n",
       "      <th>cnt</th>\n",
       "    </tr>\n",
       "  </thead>\n",
       "  <tbody>\n",
       "    <tr>\n",
       "      <th>0</th>\n",
       "      <td>Panas</td>\n",
       "      <td>1456258</td>\n",
       "    </tr>\n",
       "    <tr>\n",
       "      <th>1</th>\n",
       "      <td>Hangat</td>\n",
       "      <td>1119088</td>\n",
       "    </tr>\n",
       "    <tr>\n",
       "      <th>2</th>\n",
       "      <td>Sejuk</td>\n",
       "      <td>578290</td>\n",
       "    </tr>\n",
       "    <tr>\n",
       "      <th>3</th>\n",
       "      <td>Panas Sekali</td>\n",
       "      <td>84101</td>\n",
       "    </tr>\n",
       "    <tr>\n",
       "      <th>4</th>\n",
       "      <td>Dingin</td>\n",
       "      <td>54942</td>\n",
       "    </tr>\n",
       "  </tbody>\n",
       "</table>\n",
       "</div>"
      ],
      "text/plain": [
       "  temp_category      cnt\n",
       "0         Panas  1456258\n",
       "1        Hangat  1119088\n",
       "2         Sejuk   578290\n",
       "3  Panas Sekali    84101\n",
       "4        Dingin    54942"
      ]
     },
     "execution_count": 26,
     "metadata": {},
     "output_type": "execute_result"
    }
   ],
   "source": [
    "sum_order_item_temp=data_hour.groupby(by=\"temp_category\").cnt.sum().sort_values(ascending=False).reset_index()\n",
    "data_hour.groupby(by=\"temp_category\").cnt.sum().sort_values(ascending=False).reset_index()"
   ]
  },
  {
   "cell_type": "code",
   "execution_count": 27,
   "metadata": {},
   "outputs": [
    {
     "name": "stderr",
     "output_type": "stream",
     "text": [
      "C:\\Users\\Emil RB\\AppData\\Local\\Temp\\ipykernel_4152\\2049635886.py:3: FutureWarning: \n",
      "\n",
      "Passing `palette` without assigning `hue` is deprecated and will be removed in v0.14.0. Assign the `y` variable to `hue` and set `legend=False` for the same effect.\n",
      "\n",
      "  sns.barplot(\n",
      "C:\\Users\\Emil RB\\AppData\\Local\\Temp\\ipykernel_4152\\2049635886.py:3: UserWarning: The palette list has more values (7) than needed (5), which may not be intended.\n",
      "  sns.barplot(\n"
     ]
    },
    {
     "data": {
      "image/png": "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",
      "text/plain": [
       "<Figure size 1000x500 with 1 Axes>"
      ]
     },
     "metadata": {},
     "output_type": "display_data"
    }
   ],
   "source": [
    "plt.figure(figsize=(10, 5))\n",
    "colors = [\"#72BCD4\", \"#D3D3D3\", \"#D3D3D3\", \"#D3D3D3\", \"#D3D3D3\",\"#D3D3D3\",\"#EE4B2B\"] \n",
    "sns.barplot(\n",
    "    y=\"temp_category\", \n",
    "    x=\"cnt\",\n",
    "    data=sum_order_item_temp.sort_values(by=\"cnt\", ascending=False),\n",
    "    palette=colors\n",
    ")\n",
    "plt.title(\"Jumlah Sewa Sepeda Tiap Keadaan Suhu\", loc=\"center\", fontsize=15)\n",
    "plt.ylabel(None)\n",
    "plt.xlabel(None)\n",
    "plt.tick_params(axis='x', labelsize=12)\n",
    "plt.show()"
   ]
  },
  {
   "cell_type": "markdown",
   "metadata": {
    "id": "ZTcyR48Y8DC2"
   },
   "source": [
    "Dapat dilihat dari grafik bahwa banyak yang menyewa sepeda pada saat keadaan panas dengan jumlah 1456258 kali"
   ]
  },
  {
   "cell_type": "markdown",
   "metadata": {
    "id": "ZTcyR48Y8DC2"
   },
   "source": [
    "#### Total pengguna berdasarkan waktu (Pagi-Malam)"
   ]
  },
  {
   "cell_type": "markdown",
   "metadata": {
    "id": "ZTcyR48Y8DC2"
   },
   "source": [
    "Kita akan mengelompokkan berdasarkan waktu:\n",
    "- Pagi yaitu jam 5AM sampai 12PM\n",
    "- Siang yaitu jam 12PM sampai jam 5PM\n",
    "- Sore yaitu jam 5PM sampai jam 7PM\n",
    "- Malam yaitu jam 7PM sampai 5 AM"
   ]
  },
  {
   "cell_type": "code",
   "execution_count": 28,
   "metadata": {
    "id": "iWhnzsJGYUCO"
   },
   "outputs": [],
   "source": [
    "def classify_hour(hr):\n",
    "    if 5<=hr and hr<12:\n",
    "        return \"Pagi\"\n",
    "    elif 12<=hr and hr<17:\n",
    "        return \"Siang\"\n",
    "    elif 17<=hr and hr<19:\n",
    "        return \"Sore\"\n",
    "    else:\n",
    "        return \"Malam\"\n",
    "    \n",
    "data_hour[\"hour_category\"] = data_hour[\"hr\"].apply(classify_hour)"
   ]
  },
  {
   "cell_type": "code",
   "execution_count": 29,
   "metadata": {
    "id": "iWhnzsJGYUCO"
   },
   "outputs": [
    {
     "data": {
      "text/plain": [
       "hour_category\n",
       "Siang    955882\n",
       "Pagi     921580\n",
       "Malam    768585\n",
       "Sore     646632\n",
       "Name: cnt, dtype: int64"
      ]
     },
     "execution_count": 29,
     "metadata": {},
     "output_type": "execute_result"
    }
   ],
   "source": [
    "sum_order=data_hour.groupby(by=\"hour_category\").cnt.sum().sort_values(ascending=False).reset_index()\n",
    "data_hour.groupby(by=\"hour_category\").cnt.sum().sort_values(ascending=False)"
   ]
  },
  {
   "cell_type": "code",
   "execution_count": 30,
   "metadata": {
    "id": "iWhnzsJGYUCO"
   },
   "outputs": [
    {
     "name": "stderr",
     "output_type": "stream",
     "text": [
      "C:\\Users\\Emil RB\\AppData\\Local\\Temp\\ipykernel_4152\\451535289.py:3: FutureWarning: \n",
      "\n",
      "Passing `palette` without assigning `hue` is deprecated and will be removed in v0.14.0. Assign the `x` variable to `hue` and set `legend=False` for the same effect.\n",
      "\n",
      "  sns.barplot(\n",
      "C:\\Users\\Emil RB\\AppData\\Local\\Temp\\ipykernel_4152\\451535289.py:3: UserWarning: The palette list has more values (7) than needed (4), which may not be intended.\n",
      "  sns.barplot(\n"
     ]
    },
    {
     "data": {
      "image/png": "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",
      "text/plain": [
       "<Figure size 1000x500 with 1 Axes>"
      ]
     },
     "metadata": {},
     "output_type": "display_data"
    }
   ],
   "source": [
    "plt.figure(figsize=(10, 5))\n",
    "colors = [\"#72BCD4\", \"#D3D3D3\", \"#D3D3D3\", \"#D3D3D3\", \"#D3D3D3\",\"#D3D3D3\",\"#EE4B2B\"] \n",
    "sns.barplot(\n",
    "    y=\"cnt\", \n",
    "    x=\"hour_category\",\n",
    "    data=sum_order.sort_values(by=\"cnt\", ascending=False),\n",
    "    palette=colors\n",
    ")\n",
    "plt.title(\"Jumlah Sewa Sepeda Tiap Waktu\", loc=\"center\", fontsize=15)\n",
    "plt.ylabel(None)\n",
    "plt.xlabel(None)\n",
    "plt.tick_params(axis='x', labelsize=12)\n",
    "plt.show()"
   ]
  },
  {
   "cell_type": "markdown",
   "metadata": {
    "id": "ZTcyR48Y8DC2"
   },
   "source": [
    "Sepeda Paling banyak disewa pada saat siang hari"
   ]
  },
  {
   "cell_type": "markdown",
   "metadata": {
    "id": "_WeHlCeX8DC2"
   },
   "source": [
    "## Conclusion"
   ]
  },
  {
   "cell_type": "markdown",
   "metadata": {
    "id": "ZTcyR48Y8DC2"
   },
   "source": [
    "- Jumlah sewa sepeda tertinggi ada di hari jumat dengan jumlah 487790 dan jumlah sewa sepeda terendah ada pada hari minggu dengan jumlah 444027.\n",
    "- Cuaca clear atau cerah memiliki jumlah penyewaan sepeda terbanyak dengan jumlah 2338173.\n",
    "- Registered dan casual user memiliki trend yang mirip. Registered dan casual user memiliki jumlah order terbanyak di bulan september 2012. Ada penurunan pada jumlah sewa sepeda yang cukup besar di bulan Oktober sampai Desember 2012. Perkembangan pesat terjadi pada awal tahun 2012 yaitu pada bulan Januari.\n",
    "- Banyak yang menyewa sepeda pada saat keadaan panas dengan jumlah 1456258 kali\n",
    "- Sepeda Paling banyak disewa pada saat siang hari"
   ]
  }
 ],
 "metadata": {
  "colab": {
   "provenance": []
  },
  "kernelspec": {
   "display_name": "Python 3 (ipykernel)",
   "language": "python",
   "name": "python3"
  },
  "language_info": {
   "codemirror_mode": {
    "name": "ipython",
    "version": 3
   },
   "file_extension": ".py",
   "mimetype": "text/x-python",
   "name": "python",
   "nbconvert_exporter": "python",
   "pygments_lexer": "ipython3",
   "version": "3.12.6"
  },
  "vscode": {
   "interpreter": {
    "hash": "972b3bf27e332e87b5379f2791f6ef9dfc79c71018c370b0d7423235e20fe4d7"
   }
  }
 },
 "nbformat": 4,
 "nbformat_minor": 4
}
